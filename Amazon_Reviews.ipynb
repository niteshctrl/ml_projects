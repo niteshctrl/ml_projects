{
  "nbformat": 4,
  "nbformat_minor": 0,
  "metadata": {
    "kernelspec": {
      "display_name": "Python 3",
      "language": "python",
      "name": "python3"
    },
    "language_info": {
      "codemirror_mode": {
        "name": "ipython",
        "version": 3
      },
      "file_extension": ".py",
      "mimetype": "text/x-python",
      "name": "python",
      "nbconvert_exporter": "python",
      "pygments_lexer": "ipython3",
      "version": "3.6.5"
    },
    "colab": {
      "name": "Amazon_Reviews.ipynb",
      "provenance": [],
      "collapsed_sections": [
        "SMx3DPVgACuf",
        "YNOV_MaeACuo",
        "tJwlJU2dACut",
        "9YeKfgM-ACu1",
        "yJ3FMME0ACvG",
        "dW3AltSvACvr",
        "rgf-v2CKACvs",
        "FCYBG7PWACvu",
        "AkFjOeKRACvy"
      ],
      "include_colab_link": true
    }
  },
  "cells": [
    {
      "cell_type": "markdown",
      "metadata": {
        "id": "view-in-github",
        "colab_type": "text"
      },
      "source": [
        "<a href=\"https://colab.research.google.com/github/niteshpd/aai/blob/master/Amazon_Reviews.ipynb\" target=\"_parent\"><img src=\"https://colab.research.google.com/assets/colab-badge.svg\" alt=\"Open In Colab\"/></a>"
      ]
    },
    {
      "cell_type": "markdown",
      "metadata": {
        "id": "vh56jwW1ACtY",
        "colab_type": "text"
      },
      "source": [
        "# Amazon Fine Food Reviews Sentiment Analysis\n",
        "\n",
        "### Data Description\n",
        "\n"
      ]
    },
    {
      "cell_type": "markdown",
      "metadata": {
        "id": "IHL_A3WlACtZ",
        "colab_type": "text"
      },
      "source": [
        "### Objective\n",
        "\n",
        "Given a review, determine whether a review is positive(4 or 5) or neative(1 or 2)"
      ]
    },
    {
      "cell_type": "markdown",
      "metadata": {
        "id": "7g52SjgQACta",
        "colab_type": "text"
      },
      "source": [
        " ## Loading the data"
      ]
    },
    {
      "cell_type": "code",
      "metadata": {
        "id": "tZuyV89UACtb",
        "colab_type": "code",
        "colab": {}
      },
      "source": [
        "# Import libraries\n",
        "\n",
        "import sqlite3\n",
        "import pandas as pd\n",
        "import numpy as np\n",
        "from sklearn.feature_extraction.text import CountVectorizer\n",
        "from sklearn.feature_extraction.text import TfidfVectorizer\n",
        "from sklearn.neighbors import KNeighborsClassifier\n",
        "from sklearn.model_selection import train_test_split\n",
        "from sklearn.metrics import accuracy_score"
      ],
      "execution_count": null,
      "outputs": []
    },
    {
      "cell_type": "code",
      "metadata": {
        "id": "Mjoki5KoACtf",
        "colab_type": "code",
        "colab": {}
      },
      "source": [
        "# Using SQLite Table to read data.\n",
        "con = sqlite3.connect('amazon/database.sqlite') #Connection Creation\n",
        "\n",
        "# Filtering only positive and negative reviews and ignoring neutral ones(Score = 3)\n",
        "filtered_data = pd.read_sql_query(\"SELECT * FROM Reviews \\\n",
        "                WHERE Score !=3\", con)\n",
        "\n",
        "\n",
        "# Replace scores with constants 'postive'(Score=4,5) and 'negative'(Score=1,2) \n",
        "\n",
        "def partition(x):\n",
        "    if x < 3:\n",
        "        return 'negative'\n",
        "    return 'positive'\n",
        "\n",
        "actualScore = filtered_data['Score']\n",
        "positiveNegative = actualScore.map(partition)\n",
        "filtered_data['Score'] = positiveNegative"
      ],
      "execution_count": null,
      "outputs": []
    },
    {
      "cell_type": "code",
      "metadata": {
        "id": "klF9y05ZACti",
        "colab_type": "code",
        "colab": {}
      },
      "source": [
        "print(filtered_data.shape)\n",
        "filtered_data.head()"
      ],
      "execution_count": null,
      "outputs": []
    },
    {
      "cell_type": "markdown",
      "metadata": {
        "id": "R7CBVBAZACtm",
        "colab_type": "text"
      },
      "source": [
        "## Data Cleaning : Deduplication"
      ]
    },
    {
      "cell_type": "code",
      "metadata": {
        "collapsed": true,
        "id": "HjhIZ7pUACtn",
        "colab_type": "code",
        "colab": {},
        "outputId": "a7decf14-6195-4c43-8757-0c2480624df2"
      },
      "source": [
        "display = pd.read_sql_query(\"\"\"SELECT * FROM Reviews WHERE \n",
        "                            Score !=3 AND UserId = \"AR5J8UI46CURR\" \n",
        "                            ORDER BY ProductID\"\"\", con)\n",
        "display"
      ],
      "execution_count": null,
      "outputs": [
        {
          "output_type": "execute_result",
          "data": {
            "text/html": [
              "<div>\n",
              "<style scoped>\n",
              "    .dataframe tbody tr th:only-of-type {\n",
              "        vertical-align: middle;\n",
              "    }\n",
              "\n",
              "    .dataframe tbody tr th {\n",
              "        vertical-align: top;\n",
              "    }\n",
              "\n",
              "    .dataframe thead th {\n",
              "        text-align: right;\n",
              "    }\n",
              "</style>\n",
              "<table border=\"1\" class=\"dataframe\">\n",
              "  <thead>\n",
              "    <tr style=\"text-align: right;\">\n",
              "      <th></th>\n",
              "      <th>Id</th>\n",
              "      <th>ProductId</th>\n",
              "      <th>UserId</th>\n",
              "      <th>ProfileName</th>\n",
              "      <th>HelpfulnessNumerator</th>\n",
              "      <th>HelpfulnessDenominator</th>\n",
              "      <th>Score</th>\n",
              "      <th>Time</th>\n",
              "      <th>Summary</th>\n",
              "      <th>Text</th>\n",
              "    </tr>\n",
              "  </thead>\n",
              "  <tbody>\n",
              "    <tr>\n",
              "      <th>0</th>\n",
              "      <td>78445</td>\n",
              "      <td>B000HDL1RQ</td>\n",
              "      <td>AR5J8UI46CURR</td>\n",
              "      <td>Geetha Krishnan</td>\n",
              "      <td>2</td>\n",
              "      <td>2</td>\n",
              "      <td>5</td>\n",
              "      <td>1199577600</td>\n",
              "      <td>LOACKER QUADRATINI VANILLA WAFERS</td>\n",
              "      <td>DELICIOUS WAFERS. I FIND THAT EUROPEAN WAFERS ...</td>\n",
              "    </tr>\n",
              "    <tr>\n",
              "      <th>1</th>\n",
              "      <td>138317</td>\n",
              "      <td>B000HDOPYC</td>\n",
              "      <td>AR5J8UI46CURR</td>\n",
              "      <td>Geetha Krishnan</td>\n",
              "      <td>2</td>\n",
              "      <td>2</td>\n",
              "      <td>5</td>\n",
              "      <td>1199577600</td>\n",
              "      <td>LOACKER QUADRATINI VANILLA WAFERS</td>\n",
              "      <td>DELICIOUS WAFERS. I FIND THAT EUROPEAN WAFERS ...</td>\n",
              "    </tr>\n",
              "    <tr>\n",
              "      <th>2</th>\n",
              "      <td>138277</td>\n",
              "      <td>B000HDOPYM</td>\n",
              "      <td>AR5J8UI46CURR</td>\n",
              "      <td>Geetha Krishnan</td>\n",
              "      <td>2</td>\n",
              "      <td>2</td>\n",
              "      <td>5</td>\n",
              "      <td>1199577600</td>\n",
              "      <td>LOACKER QUADRATINI VANILLA WAFERS</td>\n",
              "      <td>DELICIOUS WAFERS. I FIND THAT EUROPEAN WAFERS ...</td>\n",
              "    </tr>\n",
              "    <tr>\n",
              "      <th>3</th>\n",
              "      <td>73791</td>\n",
              "      <td>B000HDOPZG</td>\n",
              "      <td>AR5J8UI46CURR</td>\n",
              "      <td>Geetha Krishnan</td>\n",
              "      <td>2</td>\n",
              "      <td>2</td>\n",
              "      <td>5</td>\n",
              "      <td>1199577600</td>\n",
              "      <td>LOACKER QUADRATINI VANILLA WAFERS</td>\n",
              "      <td>DELICIOUS WAFERS. I FIND THAT EUROPEAN WAFERS ...</td>\n",
              "    </tr>\n",
              "    <tr>\n",
              "      <th>4</th>\n",
              "      <td>155049</td>\n",
              "      <td>B000PAQ75C</td>\n",
              "      <td>AR5J8UI46CURR</td>\n",
              "      <td>Geetha Krishnan</td>\n",
              "      <td>2</td>\n",
              "      <td>2</td>\n",
              "      <td>5</td>\n",
              "      <td>1199577600</td>\n",
              "      <td>LOACKER QUADRATINI VANILLA WAFERS</td>\n",
              "      <td>DELICIOUS WAFERS. I FIND THAT EUROPEAN WAFERS ...</td>\n",
              "    </tr>\n",
              "  </tbody>\n",
              "</table>\n",
              "</div>"
            ],
            "text/plain": [
              "       Id   ProductId         UserId      ProfileName  HelpfulnessNumerator  \\\n",
              "0   78445  B000HDL1RQ  AR5J8UI46CURR  Geetha Krishnan                     2   \n",
              "1  138317  B000HDOPYC  AR5J8UI46CURR  Geetha Krishnan                     2   \n",
              "2  138277  B000HDOPYM  AR5J8UI46CURR  Geetha Krishnan                     2   \n",
              "3   73791  B000HDOPZG  AR5J8UI46CURR  Geetha Krishnan                     2   \n",
              "4  155049  B000PAQ75C  AR5J8UI46CURR  Geetha Krishnan                     2   \n",
              "\n",
              "   HelpfulnessDenominator  Score        Time  \\\n",
              "0                       2      5  1199577600   \n",
              "1                       2      5  1199577600   \n",
              "2                       2      5  1199577600   \n",
              "3                       2      5  1199577600   \n",
              "4                       2      5  1199577600   \n",
              "\n",
              "                             Summary  \\\n",
              "0  LOACKER QUADRATINI VANILLA WAFERS   \n",
              "1  LOACKER QUADRATINI VANILLA WAFERS   \n",
              "2  LOACKER QUADRATINI VANILLA WAFERS   \n",
              "3  LOACKER QUADRATINI VANILLA WAFERS   \n",
              "4  LOACKER QUADRATINI VANILLA WAFERS   \n",
              "\n",
              "                                                Text  \n",
              "0  DELICIOUS WAFERS. I FIND THAT EUROPEAN WAFERS ...  \n",
              "1  DELICIOUS WAFERS. I FIND THAT EUROPEAN WAFERS ...  \n",
              "2  DELICIOUS WAFERS. I FIND THAT EUROPEAN WAFERS ...  \n",
              "3  DELICIOUS WAFERS. I FIND THAT EUROPEAN WAFERS ...  \n",
              "4  DELICIOUS WAFERS. I FIND THAT EUROPEAN WAFERS ...  "
            ]
          },
          "metadata": {
            "tags": []
          },
          "execution_count": 4
        }
      ]
    },
    {
      "cell_type": "code",
      "metadata": {
        "id": "MGeR_MqSACtq",
        "colab_type": "code",
        "colab": {}
      },
      "source": [
        "# Sorting data by ProductID in ascending order\n",
        "sorted_data = filtered_data.sort_values('ProductId', axis=0, ascending=True)"
      ],
      "execution_count": null,
      "outputs": []
    },
    {
      "cell_type": "code",
      "metadata": {
        "id": "dlG4syA2ACtw",
        "colab_type": "code",
        "colab": {},
        "outputId": "762032fc-6c09-469f-b287-d6b9f2030923"
      },
      "source": [
        "# Dropping the duplicates\n",
        "final = sorted_data.drop_duplicates(subset={\"UserId\",\"ProfileName\",\"Time\",\"Text\"}, keep='first', inplace=False)\n",
        "final.shape"
      ],
      "execution_count": null,
      "outputs": [
        {
          "output_type": "execute_result",
          "data": {
            "text/plain": [
              "(364173, 10)"
            ]
          },
          "metadata": {
            "tags": []
          },
          "execution_count": 6
        }
      ]
    },
    {
      "cell_type": "code",
      "metadata": {
        "id": "fEvIpuaIACt5",
        "colab_type": "code",
        "colab": {},
        "outputId": "e0e446d4-d6ef-47b1-c508-d860e14deb37"
      },
      "source": [
        "# What %age of data is still left\n",
        "final.size/filtered_data.size * 100"
      ],
      "execution_count": null,
      "outputs": [
        {
          "output_type": "execute_result",
          "data": {
            "text/plain": [
              "69.25890143662969"
            ]
          },
          "metadata": {
            "tags": []
          },
          "execution_count": 7
        }
      ]
    },
    {
      "cell_type": "code",
      "metadata": {
        "id": "nUU1CUErACt9",
        "colab_type": "code",
        "colab": {},
        "outputId": "3dc1bc86-ab44-4c75-e5de-ca645da057c6"
      },
      "source": [
        "display = pd.read_sql_query(\"\"\"SELECT * FROM Reviews WHERE\n",
        "            Score !=3 AND Id=44737 OR Id=64422 ORDER BY\n",
        "            ProductId\"\"\", con)\n",
        "display"
      ],
      "execution_count": null,
      "outputs": [
        {
          "output_type": "execute_result",
          "data": {
            "text/html": [
              "<div>\n",
              "<style scoped>\n",
              "    .dataframe tbody tr th:only-of-type {\n",
              "        vertical-align: middle;\n",
              "    }\n",
              "\n",
              "    .dataframe tbody tr th {\n",
              "        vertical-align: top;\n",
              "    }\n",
              "\n",
              "    .dataframe thead th {\n",
              "        text-align: right;\n",
              "    }\n",
              "</style>\n",
              "<table border=\"1\" class=\"dataframe\">\n",
              "  <thead>\n",
              "    <tr style=\"text-align: right;\">\n",
              "      <th></th>\n",
              "      <th>Id</th>\n",
              "      <th>ProductId</th>\n",
              "      <th>UserId</th>\n",
              "      <th>ProfileName</th>\n",
              "      <th>HelpfulnessNumerator</th>\n",
              "      <th>HelpfulnessDenominator</th>\n",
              "      <th>Score</th>\n",
              "      <th>Time</th>\n",
              "      <th>Summary</th>\n",
              "      <th>Text</th>\n",
              "    </tr>\n",
              "  </thead>\n",
              "  <tbody>\n",
              "    <tr>\n",
              "      <th>0</th>\n",
              "      <td>64422</td>\n",
              "      <td>B000MIDROQ</td>\n",
              "      <td>A161DK06JJMCYF</td>\n",
              "      <td>J. E. Stephens \"Jeanne\"</td>\n",
              "      <td>3</td>\n",
              "      <td>1</td>\n",
              "      <td>5</td>\n",
              "      <td>1224892800</td>\n",
              "      <td>Bought This for My Son at College</td>\n",
              "      <td>My son loves spaghetti so I didn't hesitate or...</td>\n",
              "    </tr>\n",
              "    <tr>\n",
              "      <th>1</th>\n",
              "      <td>44737</td>\n",
              "      <td>B001EQ55RW</td>\n",
              "      <td>A2V0I904FH7ABY</td>\n",
              "      <td>Ram</td>\n",
              "      <td>3</td>\n",
              "      <td>2</td>\n",
              "      <td>4</td>\n",
              "      <td>1212883200</td>\n",
              "      <td>Pure cocoa taste with crunchy almonds inside</td>\n",
              "      <td>It was almost a 'love at first bite' - the per...</td>\n",
              "    </tr>\n",
              "  </tbody>\n",
              "</table>\n",
              "</div>"
            ],
            "text/plain": [
              "      Id   ProductId          UserId              ProfileName  \\\n",
              "0  64422  B000MIDROQ  A161DK06JJMCYF  J. E. Stephens \"Jeanne\"   \n",
              "1  44737  B001EQ55RW  A2V0I904FH7ABY                      Ram   \n",
              "\n",
              "   HelpfulnessNumerator  HelpfulnessDenominator  Score        Time  \\\n",
              "0                     3                       1      5  1224892800   \n",
              "1                     3                       2      4  1212883200   \n",
              "\n",
              "                                        Summary  \\\n",
              "0             Bought This for My Son at College   \n",
              "1  Pure cocoa taste with crunchy almonds inside   \n",
              "\n",
              "                                                Text  \n",
              "0  My son loves spaghetti so I didn't hesitate or...  \n",
              "1  It was almost a 'love at first bite' - the per...  "
            ]
          },
          "metadata": {
            "tags": []
          },
          "execution_count": 8
        }
      ]
    },
    {
      "cell_type": "code",
      "metadata": {
        "id": "Kfkj1qx9ACuD",
        "colab_type": "code",
        "colab": {}
      },
      "source": [
        "final = final[final.HelpfulnessNumerator<=final.HelpfulnessDenominator]"
      ],
      "execution_count": null,
      "outputs": []
    },
    {
      "cell_type": "code",
      "metadata": {
        "scrolled": true,
        "id": "ygPXDC7iACuH",
        "colab_type": "code",
        "colab": {},
        "outputId": "15ac4595-d7e0-41bc-f74f-cfe94a0addd2"
      },
      "source": [
        "print(final.shape)\n",
        "\n",
        "# Positive and Negative reviews left in our dataset\n",
        "final['Score'].value_counts()"
      ],
      "execution_count": null,
      "outputs": [
        {
          "output_type": "stream",
          "text": [
            "(364171, 10)\n"
          ],
          "name": "stdout"
        },
        {
          "output_type": "execute_result",
          "data": {
            "text/plain": [
              "positive    307061\n",
              "negative     57110\n",
              "Name: Score, dtype: int64"
            ]
          },
          "metadata": {
            "tags": []
          },
          "execution_count": 10
        }
      ]
    },
    {
      "cell_type": "markdown",
      "metadata": {
        "id": "WYskmGQEACuL",
        "colab_type": "text"
      },
      "source": [
        "## Text Preprocessing(StopWords removal, Stemming, Lemmitization)\n",
        "\n",
        "Steps:\n",
        "1. Remove HTML Tags\n",
        "2. Remove Punctuations and Special Characters\n",
        "3. Check the word is english and not alphanumeric\n",
        "4. Check if the length of the word is greater than 2\n",
        "5. Convert to lowercase\n",
        "6. Remove Stopwords\n",
        "7. Snowball stemming the word\n",
        "\n",
        "Collect the words used to describe positive and negative reviews."
      ]
    },
    {
      "cell_type": "code",
      "metadata": {
        "id": "vL6v-G4xACuL",
        "colab_type": "code",
        "colab": {},
        "outputId": "c317c94d-c06f-4397-f784-23daa88bd9cb"
      },
      "source": [
        "import re\n",
        "import string\n",
        "import nltk\n",
        "from nltk.corpus import stopwords\n",
        "from nltk.stem import PorterStemmer\n",
        "from nltk.stem import SnowballStemmer\n",
        "from nltk.stem.wordnet import WordNetLemmatizer\n",
        "\n",
        "stop = set(stopwords.words('english')) #Set of StopWords in English\n",
        "sno = nltk.stem.SnowballStemmer('english') #Initialising the Snowball Stemmer\n",
        "\n",
        "def cleanhtml(sentence):\n",
        "    cleanr = re.compile('<.*?')\n",
        "    cleantext = re.sub(cleanr, ' ', sentence) # re.sub = Substitute\n",
        "    return cleantext\n",
        "\n",
        "def cleanpunc(sentence):\n",
        "    cleaned = re.sub(r'[?|!|\\'|\"|#]',r'', sentence) #Replaced with empty string\n",
        "    cleaned = re.sub(r'[.|,|)|(|\\|/]',r' ', cleaned) # Replaced with space\n",
        "    return cleaned\n",
        "print(sno.stem('tasty')) # Stem of the word 'Tasty'"
      ],
      "execution_count": null,
      "outputs": [
        {
          "output_type": "stream",
          "text": [
            "tasti\n"
          ],
          "name": "stdout"
        }
      ]
    },
    {
      "cell_type": "code",
      "metadata": {
        "id": "CI_BMJG5ACuP",
        "colab_type": "code",
        "colab": {}
      },
      "source": [
        "# Steps to implement checks mentioned in the pre-processing\n",
        "\n",
        "i = 0\n",
        "strl = ' '\n",
        "final_string = []\n",
        "all_positive_words = [] # Words from positive reviews\n",
        "all_negative_words = []\n",
        "s=''\n",
        "for sent in final['Text'].values:\n",
        "    filtered_sentence = []\n",
        "    sent = cleanhtml(sent) # Remove HTML Tags\n",
        "    for words in sent.split():\n",
        "        for cleaned_words in cleanpunc(words).split():\n",
        "            if(cleaned_words.isalpha()) & (len(cleaned_words) > 2):\n",
        "                if(cleaned_words.lower() not in stop):\n",
        "                    s = sno.stem(cleaned_words.lower()).encode('utf8')\n",
        "                    filtered_sentence.append(s)\n",
        "                    if final['Score'].values[i] == 'positive':\n",
        "                        all_positive_words.append(s)\n",
        "                    elif final['Score'].values[i] == 'negative':\n",
        "                        all_negative_words.append(s)\n",
        "                else:\n",
        "                    continue\n",
        "            else:\n",
        "                continue\n",
        "    strl = b\" \".join(filtered_sentence) # List of words to String\n",
        "    final_string.append(strl) # List of all String Reviews\n",
        "    i += 1"
      ],
      "execution_count": null,
      "outputs": []
    },
    {
      "cell_type": "code",
      "metadata": {
        "id": "bfHea-6fACuT",
        "colab_type": "code",
        "colab": {}
      },
      "source": [
        "final['CleanedText'] = final_string # Adding a Column of CleanedText to main DataFrame"
      ],
      "execution_count": null,
      "outputs": []
    },
    {
      "cell_type": "code",
      "metadata": {
        "id": "qHZZVuYFACuc",
        "colab_type": "code",
        "colab": {}
      },
      "source": [
        "# Store final table into SQlLite Table\n",
        "\n",
        "conn = sqlite3.connect('final.sqlite')\n",
        "c = conn.cursor()\n",
        "conn.text_factory = str\n",
        "final.to_sql('Reviews', conn, schema=None, if_exists='replace')"
      ],
      "execution_count": null,
      "outputs": []
    },
    {
      "cell_type": "markdown",
      "metadata": {
        "id": "SMx3DPVgACuf",
        "colab_type": "text"
      },
      "source": [
        "## /////////////////////////////////////////////////////////////////////////////////////////////////////////////////"
      ]
    },
    {
      "cell_type": "code",
      "metadata": {
        "id": "Lzf89_3-ACug",
        "colab_type": "code",
        "colab": {}
      },
      "source": [
        "# Loading data from the saved SQLite file\n",
        "\n",
        "con = sqlite3.connect('final.sqlite') #Connection Creation\n",
        "\n",
        "final = pd.read_sql_query(\"SELECT * FROM Reviews\", con)"
      ],
      "execution_count": null,
      "outputs": []
    },
    {
      "cell_type": "code",
      "metadata": {
        "id": "J_d3mOAaACui",
        "colab_type": "code",
        "colab": {}
      },
      "source": [
        "# Storing labels in variable 'y' and saving CleanedText in variable cleaned_text\n",
        "\n",
        "cleaned_text = list(final['CleanedText'])\n",
        "y = final['Score'].replace('positive', 1)\n",
        "y = y.replace('negative',0)"
      ],
      "execution_count": null,
      "outputs": []
    },
    {
      "cell_type": "code",
      "metadata": {
        "id": "o00Pdwa2ACul",
        "colab_type": "code",
        "colab": {},
        "outputId": "0cf38b66-41d2-41fe-c71f-4cdb1c1c9e56"
      },
      "source": [
        "y.value_counts()"
      ],
      "execution_count": null,
      "outputs": [
        {
          "output_type": "execute_result",
          "data": {
            "text/plain": [
              "1    307061\n",
              "0     57110\n",
              "Name: Score, dtype: int64"
            ]
          },
          "metadata": {
            "tags": []
          },
          "execution_count": 7
        }
      ]
    },
    {
      "cell_type": "markdown",
      "metadata": {
        "id": "YNOV_MaeACuo",
        "colab_type": "text"
      },
      "source": [
        "## Bag of Words(BoW)"
      ]
    },
    {
      "cell_type": "code",
      "metadata": {
        "id": "u7Qn5kYFACup",
        "colab_type": "code",
        "colab": {}
      },
      "source": [
        "# BoW\n",
        "\n",
        "count_vect = CountVectorizer()\n",
        "final_counts = count_vect.fit_transform(final['Text'].values)"
      ],
      "execution_count": null,
      "outputs": []
    },
    {
      "cell_type": "code",
      "metadata": {
        "scrolled": true,
        "id": "uNRJMlg2ACur",
        "colab_type": "code",
        "colab": {},
        "outputId": "2f094cb7-ab8a-4f18-903e-b52d38c5d39d"
      },
      "source": [
        "print(type(final_counts))\n",
        "final_counts.get_shape()"
      ],
      "execution_count": null,
      "outputs": [
        {
          "output_type": "stream",
          "text": [
            "<class 'scipy.sparse.csr.csr_matrix'>\n"
          ],
          "name": "stdout"
        },
        {
          "output_type": "execute_result",
          "data": {
            "text/plain": [
              "(364171, 115281)"
            ]
          },
          "metadata": {
            "tags": []
          },
          "execution_count": 7
        }
      ]
    },
    {
      "cell_type": "markdown",
      "metadata": {
        "id": "tJwlJU2dACut",
        "colab_type": "text"
      },
      "source": [
        "## Bi-Grams and n-Grams"
      ]
    },
    {
      "cell_type": "code",
      "metadata": {
        "id": "MjKO8324ACuu",
        "colab_type": "code",
        "colab": {},
        "outputId": "e1240667-b272-4648-ad28-f32025c5cfbd"
      },
      "source": [
        "freq_dist_positive = nltk.FreqDist(all_positive_words)\n",
        "freq_dist_negative = nltk.FreqDist(all_negative_words)\n",
        "print(\"Most common Positive words :\",freq_dist_positive.most_common(20))\n",
        "print(\"\\nMost common Negative words :\",freq_dist_negative.most_common(20))"
      ],
      "execution_count": null,
      "outputs": [
        {
          "output_type": "stream",
          "text": [
            "Most common Positive words : [(b'like', 139150), (b'tast', 128631), (b'good', 112216), (b'flavor', 109473), (b'love', 107034), (b'use', 103627), (b'great', 102818), (b'product', 99504), (b'one', 95360), (b'tri', 86237), (b'tea', 83824), (b'coffe', 78610), (b'make', 74835), (b'get', 71962), (b'food', 64752), (b'amazon', 57832), (b'would', 55297), (b'time', 55225), (b'buy', 53903), (b'realli', 52569)]\n",
            "\n",
            "Most common Negative words : [(b'tast', 34489), (b'like', 32284), (b'product', 29504), (b'one', 20420), (b'flavor', 19561), (b'would', 17901), (b'tri', 17676), (b'use', 15275), (b'good', 14977), (b'coffe', 14677), (b'get', 13758), (b'buy', 13690), (b'order', 12846), (b'food', 12742), (b'dont', 11683), (b'tea', 11657), (b'amazon', 11258), (b'even', 10983), (b'box', 10841), (b'make', 9816)]\n"
          ],
          "name": "stdout"
        }
      ]
    },
    {
      "cell_type": "code",
      "metadata": {
        "id": "N3rPDqiIACuw",
        "colab_type": "code",
        "colab": {}
      },
      "source": [
        "# bi-gram, tri-gram and n-gram\n",
        "# Removing stop words like \"not\" should be avoided before building n-grams\n",
        "\n",
        "count_vect = CountVectorizer(ngram_range=(1,2)) #Includes Unigrams and Bigrams\n",
        "final_bigram_counts = count_vect.fit_transform(final['Text'].values)"
      ],
      "execution_count": null,
      "outputs": []
    },
    {
      "cell_type": "code",
      "metadata": {
        "id": "N2zVM0SEACuz",
        "colab_type": "code",
        "colab": {},
        "outputId": "88a8b11c-f9b6-4161-d151-d7166f5cf63a"
      },
      "source": [
        "final_bigram_counts.get_shape()"
      ],
      "execution_count": null,
      "outputs": [
        {
          "output_type": "execute_result",
          "data": {
            "text/plain": [
              "(364171, 2910192)"
            ]
          },
          "metadata": {
            "tags": []
          },
          "execution_count": 19
        }
      ]
    },
    {
      "cell_type": "markdown",
      "metadata": {
        "id": "9YeKfgM-ACu1",
        "colab_type": "text"
      },
      "source": [
        "## TF-IDF"
      ]
    },
    {
      "cell_type": "code",
      "metadata": {
        "id": "LMOYdx0xACu2",
        "colab_type": "code",
        "colab": {}
      },
      "source": [
        "tf_idf_vect = TfidfVectorizer(ngram_range=(1,2))\n",
        "final_tf_idf = tf_idf_vect.fit_transform(final['Text'].values)"
      ],
      "execution_count": null,
      "outputs": []
    },
    {
      "cell_type": "code",
      "metadata": {
        "id": "V4rPLyG2ACu4",
        "colab_type": "code",
        "colab": {}
      },
      "source": [
        "final_tf_idf.get_shape()"
      ],
      "execution_count": null,
      "outputs": []
    },
    {
      "cell_type": "code",
      "metadata": {
        "id": "l6okvLlrACu6",
        "colab_type": "code",
        "colab": {}
      },
      "source": [
        "features = tf_idf_vect.get_feature_names()\n",
        "len(features)"
      ],
      "execution_count": null,
      "outputs": []
    },
    {
      "cell_type": "code",
      "metadata": {
        "id": "RJFAMbG4ACu9",
        "colab_type": "code",
        "colab": {}
      },
      "source": [
        "features[100000:100010]"
      ],
      "execution_count": null,
      "outputs": []
    },
    {
      "cell_type": "code",
      "metadata": {
        "id": "zut5D2t5ACu_",
        "colab_type": "code",
        "colab": {}
      },
      "source": [
        "print(final_tf_idf[3,:].toarray()[0])"
      ],
      "execution_count": null,
      "outputs": []
    },
    {
      "cell_type": "code",
      "metadata": {
        "id": "BtTvPojEACvB",
        "colab_type": "code",
        "colab": {}
      },
      "source": [
        "# Top TF-IDF Features\n",
        "\n",
        "def top_tfidf_feats(row, features, top_n):\n",
        "    topn_ids = np.argsort(row)[::-1][:top_n]\n",
        "    top_feats = [(features[i], row[i]) for i in topn_ids]\n",
        "    df = pd.DataFrame(top_feats)\n",
        "    df.columns = ['Feature', 'tfidf']\n",
        "    return df\n",
        "\n",
        "top_tfidf = top_tfidf_feats(final_tf_idf[1,:].toarray()[0], features,25)"
      ],
      "execution_count": null,
      "outputs": []
    },
    {
      "cell_type": "code",
      "metadata": {
        "scrolled": true,
        "id": "tLGCjDTXACvD",
        "colab_type": "code",
        "colab": {}
      },
      "source": [
        "top_tfidf"
      ],
      "execution_count": null,
      "outputs": []
    },
    {
      "cell_type": "markdown",
      "metadata": {
        "id": "yJ3FMME0ACvG",
        "colab_type": "text"
      },
      "source": [
        "## Word2Vec"
      ]
    },
    {
      "cell_type": "code",
      "metadata": {
        "id": "CUqipJasACvH",
        "colab_type": "code",
        "colab": {}
      },
      "source": [
        "from gensim.models import Word2Vec\n",
        "from gensim.models import KeyedVectors\n",
        "import pickle\n",
        "\n",
        "# We use pretrained model by Google\n",
        "# It's 3.3GB once loaded into memory\n",
        "# Occupies 10GB RAM\n",
        "# Contains all our corpus words as keys and model[word] as values\n",
        "# Download 'Google-news-vectors-negative300.bin'\n",
        "\n",
        "model = KeyedVectors.load_word2vec_format('GoogleNews-vectors-negative300.bin', binary=True)"
      ],
      "execution_count": null,
      "outputs": []
    },
    {
      "cell_type": "code",
      "metadata": {
        "id": "wt2TQeIlACvJ",
        "colab_type": "code",
        "colab": {}
      },
      "source": [
        "model.wv['computer'] # We can get the vector for any word"
      ],
      "execution_count": null,
      "outputs": []
    },
    {
      "cell_type": "code",
      "metadata": {
        "id": "SGZ7QAhAACvL",
        "colab_type": "code",
        "colab": {}
      },
      "source": [
        "model.wv.similarity('woman','man')"
      ],
      "execution_count": null,
      "outputs": []
    },
    {
      "cell_type": "code",
      "metadata": {
        "id": "N7qXYeexACvN",
        "colab_type": "code",
        "colab": {}
      },
      "source": [
        "model.wv.most_similar('woman')"
      ],
      "execution_count": null,
      "outputs": []
    },
    {
      "cell_type": "code",
      "metadata": {
        "id": "Jcwevyd4ACvQ",
        "colab_type": "code",
        "colab": {}
      },
      "source": [
        "model.wv.most_similar('tasti') # Some of the stemmed words may not have Word to Vectors depending on the training dataset"
      ],
      "execution_count": null,
      "outputs": []
    },
    {
      "cell_type": "code",
      "metadata": {
        "id": "MbFGQyVfACvT",
        "colab_type": "code",
        "colab": {}
      },
      "source": [
        "model.wv.most_similar('tasty')"
      ],
      "execution_count": null,
      "outputs": []
    },
    {
      "cell_type": "code",
      "metadata": {
        "id": "iGb7NnI3ACvV",
        "colab_type": "code",
        "colab": {}
      },
      "source": [
        "# Training our own Word2Vec model using our own text corpus\n",
        "import gensim\n",
        "i = 0\n",
        "list_of_sent = []\n",
        "for sent in final['Text'].values:\n",
        "    filtered_sentence = []\n",
        "    sent = cleanhtml(sent)\n",
        "    for w in sent.split():\n",
        "        for cleaned_words in cleanpunc(w).split():\n",
        "            if(cleaned_words.isalpha()):\n",
        "                filtered_sentence.append(cleaned_words.lower())\n",
        "            else:\n",
        "                continue\n",
        "    list_of_sent.append(filtered_sentence)"
      ],
      "execution_count": null,
      "outputs": []
    },
    {
      "cell_type": "code",
      "metadata": {
        "id": "EMr7yUeLACvX",
        "colab_type": "code",
        "colab": {}
      },
      "source": [
        "print(final['Text'].values[0])\n",
        "print(\"*****************************************************\")\n",
        "print(list_of_sent[0])"
      ],
      "execution_count": null,
      "outputs": []
    },
    {
      "cell_type": "code",
      "metadata": {
        "id": "fBpx6FauACva",
        "colab_type": "code",
        "colab": {}
      },
      "source": [
        "# min_count is the min frequency that a word should appear for training\n",
        "#size is the size(dimension) of the vector\n",
        "#Workers is the number of cores to be used for training\n",
        "\n",
        "w2v_model = gensim.models.Word2Vec(list_of_sent, min_count=5,size=50, workers=12)"
      ],
      "execution_count": null,
      "outputs": []
    },
    {
      "cell_type": "code",
      "metadata": {
        "id": "BuQ-lV1uACvc",
        "colab_type": "code",
        "colab": {}
      },
      "source": [
        "words = list(w2v_model.wv.vocab)\n",
        "print(len(words))"
      ],
      "execution_count": null,
      "outputs": []
    },
    {
      "cell_type": "code",
      "metadata": {
        "id": "Qpq-souqACvf",
        "colab_type": "code",
        "colab": {}
      },
      "source": [
        "w2v_model.wv.most_similar('tasty')"
      ],
      "execution_count": null,
      "outputs": []
    },
    {
      "cell_type": "code",
      "metadata": {
        "id": "OasDfBdYACvh",
        "colab_type": "code",
        "colab": {}
      },
      "source": [
        "w2v_model.wv.most_similar('like')"
      ],
      "execution_count": null,
      "outputs": []
    },
    {
      "cell_type": "code",
      "metadata": {
        "id": "sKxPexgZACvk",
        "colab_type": "code",
        "colab": {}
      },
      "source": [
        "count_vect_feat = count_vect.get_feature_names()\n",
        "count_vect_feat.index('like')\n",
        "print(count_vect_feat[64055])"
      ],
      "execution_count": null,
      "outputs": []
    },
    {
      "cell_type": "code",
      "metadata": {
        "collapsed": true,
        "id": "norWizIbACvm",
        "colab_type": "code",
        "colab": {},
        "outputId": "534e2475-cac8-426d-aecf-3190c884a871"
      },
      "source": [
        "model.wv['women']"
      ],
      "execution_count": null,
      "outputs": [
        {
          "output_type": "stream",
          "text": [
            "/home/np/anaconda3/lib/python3.6/site-packages/ipykernel_launcher.py:1: DeprecationWarning: Call to deprecated `wv` (Attribute will be removed in 4.0.0, use self instead).\n",
            "  \"\"\"Entry point for launching an IPython kernel.\n"
          ],
          "name": "stderr"
        },
        {
          "output_type": "execute_result",
          "data": {
            "text/plain": [
              "array([-1.39648438e-01,  1.64062500e-01,  1.61132812e-02,  1.07910156e-01,\n",
              "        2.18750000e-01, -2.63671875e-01, -1.13281250e-01, -1.19628906e-01,\n",
              "       -6.68945312e-02,  9.61914062e-02, -1.21093750e-01, -1.71875000e-01,\n",
              "        1.23046875e-01,  1.93359375e-01, -2.99072266e-02,  1.51367188e-01,\n",
              "       -1.13769531e-01,  1.46484375e-02, -5.58471680e-03,  1.10351562e-01,\n",
              "       -1.64062500e-01,  3.24707031e-02, -1.09863281e-01, -3.41796875e-01,\n",
              "       -1.45507812e-01, -2.09960938e-01, -1.82617188e-01,  1.78710938e-01,\n",
              "       -1.31835938e-01, -1.76757812e-01,  2.42614746e-03, -2.53906250e-02,\n",
              "       -1.73828125e-01, -1.86523438e-01, -4.05273438e-02,  9.91210938e-02,\n",
              "       -6.00585938e-02, -1.35742188e-01, -6.59179688e-02,  1.26953125e-01,\n",
              "       -6.29882812e-02,  9.96093750e-02,  5.17578125e-02, -4.44335938e-02,\n",
              "       -1.62353516e-02, -9.42382812e-02, -7.42187500e-02, -2.92968750e-02,\n",
              "        1.78710938e-01,  1.23046875e-01,  2.51953125e-01, -9.08203125e-02,\n",
              "       -1.76239014e-03,  1.89453125e-01, -1.10351562e-01, -3.22265625e-01,\n",
              "        5.61523438e-02,  8.20159912e-05, -1.14746094e-01,  5.79833984e-03,\n",
              "        7.12890625e-02, -4.07714844e-02, -4.93164062e-02, -2.99072266e-02,\n",
              "        1.37695312e-01,  5.12695312e-02, -4.68750000e-02,  2.73437500e-01,\n",
              "        2.06054688e-01,  4.19921875e-02, -6.64062500e-02,  2.50000000e-01,\n",
              "       -2.73437500e-02,  1.26953125e-01,  7.12890625e-02, -9.22851562e-02,\n",
              "       -1.16210938e-01,  2.34375000e-01,  3.12500000e-02,  2.30468750e-01,\n",
              "       -4.17480469e-02, -1.26953125e-01,  5.44433594e-02,  1.41601562e-01,\n",
              "       -4.33593750e-01, -2.29492188e-02, -9.52148438e-02,  3.07617188e-02,\n",
              "        1.00097656e-01,  8.59375000e-02, -3.37890625e-01, -3.02734375e-01,\n",
              "       -1.32812500e-01, -2.36816406e-02,  1.96289062e-01, -8.69140625e-02,\n",
              "        2.42187500e-01, -2.32421875e-01,  2.20703125e-01, -8.93554688e-02,\n",
              "        4.44335938e-02, -8.54492188e-02, -1.47460938e-01, -1.10839844e-01,\n",
              "        4.98046875e-02,  8.10546875e-02,  1.01318359e-02, -1.21582031e-01,\n",
              "        2.10937500e-01, -9.94873047e-03,  1.78710938e-01,  1.08398438e-01,\n",
              "       -4.56542969e-02,  2.03125000e-01, -8.59375000e-02, -1.21582031e-01,\n",
              "        1.13769531e-01, -1.87500000e-01,  5.27343750e-02,  7.76367188e-02,\n",
              "       -3.10546875e-01,  1.53320312e-01, -4.29687500e-02, -1.17675781e-01,\n",
              "       -1.04003906e-01,  8.60595703e-03,  1.56250000e-02,  2.32421875e-01,\n",
              "        1.06933594e-01,  3.06640625e-01, -6.44531250e-02, -3.84765625e-01,\n",
              "       -2.91015625e-01,  1.46484375e-01,  5.02929688e-02,  5.59082031e-02,\n",
              "        5.68847656e-02, -9.66796875e-02,  6.29882812e-02, -2.24609375e-01,\n",
              "        6.29882812e-02, -2.55859375e-01,  3.39843750e-01, -2.99072266e-02,\n",
              "       -2.37304688e-01,  1.90429688e-01, -8.00781250e-02,  1.45507812e-01,\n",
              "       -1.87500000e-01, -2.36816406e-02,  1.84570312e-01, -9.71679688e-02,\n",
              "       -1.87988281e-02, -3.61328125e-01,  2.38281250e-01,  1.41601562e-01,\n",
              "       -1.62109375e-01, -6.20117188e-02,  1.85546875e-01, -1.58203125e-01,\n",
              "       -1.24511719e-01, -1.00097656e-01,  7.42187500e-02,  8.88671875e-02,\n",
              "        1.91650391e-02, -2.65625000e-01, -4.85839844e-02,  9.61914062e-02,\n",
              "        1.49536133e-02, -1.04492188e-01, -4.07714844e-02,  2.46582031e-02,\n",
              "       -4.32128906e-02, -1.43554688e-01,  1.36718750e-01, -1.55273438e-01,\n",
              "        2.81250000e-01, -1.04003906e-01, -4.24804688e-02, -4.29687500e-02,\n",
              "        4.46777344e-02, -1.38671875e-01, -1.43554688e-01, -1.42578125e-01,\n",
              "       -2.69531250e-01,  1.44653320e-02,  1.33789062e-01,  4.58984375e-02,\n",
              "       -1.97753906e-02,  1.40625000e-01,  1.51367188e-01,  1.68457031e-02,\n",
              "        1.37695312e-01,  1.41601562e-01, -1.91650391e-02,  3.24707031e-02,\n",
              "        2.31445312e-01,  1.23046875e-01, -1.19628906e-01, -6.22558594e-02,\n",
              "       -1.60156250e-01, -1.24511719e-02,  2.72216797e-02, -2.57812500e-01,\n",
              "       -1.20117188e-01, -1.05468750e-01, -5.46875000e-02, -5.88378906e-02,\n",
              "       -1.30859375e-01, -5.54199219e-02, -3.95507812e-02, -6.22558594e-03,\n",
              "        8.49609375e-02,  5.20019531e-02, -1.23046875e-01, -7.32421875e-03,\n",
              "       -7.86132812e-02,  1.67968750e-01, -1.05468750e-01,  1.17187500e-01,\n",
              "       -1.98242188e-01, -9.66796875e-02,  1.91406250e-01, -1.46484375e-01,\n",
              "        3.88183594e-02, -3.18359375e-01,  1.27929688e-01, -1.68945312e-01,\n",
              "       -6.93359375e-02,  4.76074219e-02,  9.37500000e-02,  3.85742188e-02,\n",
              "       -1.66992188e-01,  3.00781250e-01, -1.04492188e-01, -1.80664062e-01,\n",
              "       -4.56542969e-02, -2.48718262e-03,  6.49414062e-02, -2.03857422e-02,\n",
              "        2.77343750e-01, -1.56250000e-01, -1.12915039e-02, -8.39843750e-02,\n",
              "        1.34765625e-01,  6.29882812e-02, -6.93359375e-02,  2.12890625e-01,\n",
              "       -3.39843750e-01,  9.76562500e-02,  1.85546875e-01,  1.34765625e-01,\n",
              "       -2.97851562e-02, -6.68945312e-02,  1.12304688e-01, -8.10546875e-02,\n",
              "        1.20605469e-01, -1.30859375e-01,  9.71679688e-02,  1.93359375e-01,\n",
              "       -3.90625000e-02, -1.89453125e-01,  2.83203125e-02, -2.95410156e-02,\n",
              "        6.10351562e-02,  1.18164062e-01, -1.04003906e-01,  2.09960938e-01,\n",
              "       -2.51464844e-02,  2.43164062e-01, -3.80859375e-02,  3.59375000e-01,\n",
              "       -1.91406250e-01,  1.67236328e-02,  2.51953125e-01, -5.54199219e-02,\n",
              "        2.03857422e-02, -2.34375000e-01,  1.32812500e-01,  2.06054688e-01,\n",
              "        1.31835938e-01, -3.53515625e-01,  8.78906250e-03,  6.00585938e-02,\n",
              "       -1.51367188e-01, -9.52148438e-02, -2.01171875e-01, -1.74804688e-01,\n",
              "        7.08007812e-02,  1.66015625e-01,  1.03027344e-01,  1.00097656e-01,\n",
              "       -1.75781250e-01, -2.91015625e-01, -6.34765625e-02, -9.94873047e-03,\n",
              "        1.67968750e-01,  4.68750000e-02,  1.00097656e-01,  5.71289062e-02],\n",
              "      dtype=float32)"
            ]
          },
          "metadata": {
            "tags": []
          },
          "execution_count": 13
        }
      ]
    },
    {
      "cell_type": "code",
      "metadata": {
        "id": "lVzyablMACvp",
        "colab_type": "code",
        "colab": {}
      },
      "source": [
        "# Data Splitting\n",
        "\n",
        "X_1, X_test, y_1, y_test = train_test_split(final_counts, y, test_size=0.2, random_state = 1)\n",
        "X_tr, X_cv, y_tr, y_cv = train_test_split(X_1, y_1, test_size = 0.25, random_state = 1)"
      ],
      "execution_count": null,
      "outputs": []
    },
    {
      "cell_type": "markdown",
      "metadata": {
        "id": "dW3AltSvACvr",
        "colab_type": "text"
      },
      "source": [
        "## KNN"
      ]
    },
    {
      "cell_type": "markdown",
      "metadata": {
        "id": "rgf-v2CKACvs",
        "colab_type": "text"
      },
      "source": [
        "### Bow"
      ]
    },
    {
      "cell_type": "code",
      "metadata": {
        "id": "rd_a3SOQACvs",
        "colab_type": "code",
        "colab": {}
      },
      "source": [
        "\n",
        "# Data Splitting\n",
        "\n",
        "X_1, X_test, y_1, y_test = train_test_split(final_counts, y, test_size=0.2, random_state = 1)\n",
        "X_tr, X_cv, y_tr, y_cv = train_test_split(X_1, y_1, test_size = 0.25, random_state = 1)\n",
        "neigh = KNeighborsClassifier(n_neighbors = 5)\n",
        "neigh.fit(X_tr, y_tr)\n",
        "neigh.predict(X_cv[1:3000])\n",
        "for i in range(1,30,2):\n",
        "    neigh = KNeighborsClassifier(n_neighbors = i, n_jobs=1)\n",
        "    neigh.fit(X_tr, y_tr)\n",
        "    pred = neigh.predict(X_cv)\n",
        "    \n",
        "    acc = accuracy_score(y_cv, pred, normalize=True) * float(100)\n",
        "    print('\\n CV Accuracy for k = %d is %d%%' %(i,acc))"
      ],
      "execution_count": null,
      "outputs": []
    },
    {
      "cell_type": "markdown",
      "metadata": {
        "id": "FCYBG7PWACvu",
        "colab_type": "text"
      },
      "source": [
        "### TF-IDF"
      ]
    },
    {
      "cell_type": "code",
      "metadata": {
        "id": "3f7Jttl-ACvw",
        "colab_type": "code",
        "colab": {},
        "outputId": "a1605b3a-d74d-454f-9855-c7570d231f2d"
      },
      "source": [
        "final_tf_idf"
      ],
      "execution_count": null,
      "outputs": [
        {
          "output_type": "execute_result",
          "data": {
            "text/plain": [
              "<364171x2910192 sparse matrix of type '<class 'numpy.float64'>'\n",
              "\twith 45049660 stored elements in Compressed Sparse Row format>"
            ]
          },
          "metadata": {
            "tags": []
          },
          "execution_count": 8
        }
      ]
    },
    {
      "cell_type": "markdown",
      "metadata": {
        "id": "AkFjOeKRACvy",
        "colab_type": "text"
      },
      "source": [
        "### Avg W2Vec"
      ]
    },
    {
      "cell_type": "code",
      "metadata": {
        "id": "jl4LnIJ5ACvy",
        "colab_type": "code",
        "colab": {}
      },
      "source": [
        "def avg_w2vec(sentences):\n",
        "    all_vectors = []\n",
        "    for each in sentences:\n",
        "        split_words = each.decode('utf-8').split()\n",
        "        c = 0\n",
        "        vector = np.zeros(300)\n",
        "        for word in split_words:\n",
        "            if word in model.vocab:\n",
        "                vector += model.wv[word]\n",
        "                c += 1\n",
        "        all_vectors.append(vector/c)\n",
        "    return all_vectors"
      ],
      "execution_count": null,
      "outputs": []
    },
    {
      "cell_type": "code",
      "metadata": {
        "id": "zfbkVxjmACv0",
        "colab_type": "code",
        "colab": {},
        "outputId": "5e1f385a-7d34-4dd7-aee8-dcf396e4cf0f"
      },
      "source": [
        "X = avg_w2vec(cleaned_text)"
      ],
      "execution_count": null,
      "outputs": [
        {
          "output_type": "stream",
          "text": [
            "/home/np/anaconda3/lib/python3.6/site-packages/ipykernel_launcher.py:9: DeprecationWarning: Call to deprecated `wv` (Attribute will be removed in 4.0.0, use self instead).\n",
            "  if __name__ == '__main__':\n",
            "/home/np/anaconda3/lib/python3.6/site-packages/ipykernel_launcher.py:11: RuntimeWarning: invalid value encountered in true_divide\n",
            "  # This is added back by InteractiveShellApp.init_path()\n"
          ],
          "name": "stderr"
        }
      ]
    },
    {
      "cell_type": "code",
      "metadata": {
        "id": "ztB9yKgEACv3",
        "colab_type": "code",
        "colab": {}
      },
      "source": [
        "# Data Splitting\n",
        "\n",
        "X_1, X_test, y_1, y_test = train_test_split(X, y, test_size=0.2, random_state = 1)\n",
        "X_tr, X_cv, y_tr, y_cv = train_test_split(X_1, y_1, test_size = 0.25, random_state = 1)"
      ],
      "execution_count": null,
      "outputs": []
    },
    {
      "cell_type": "code",
      "metadata": {
        "scrolled": true,
        "id": "n2OLfbytACv4",
        "colab_type": "code",
        "colab": {},
        "outputId": "51e15778-d335-4949-b3be-24a78d5eea8d"
      },
      "source": [
        "neigh = KNeighborsClassifier(n_neighbors=5, n_jobs = -1)\n",
        "neigh.fit(X[:50000], y[:50000])"
      ],
      "execution_count": null,
      "outputs": [
        {
          "output_type": "execute_result",
          "data": {
            "text/plain": [
              "KNeighborsClassifier(algorithm='auto', leaf_size=30, metric='minkowski',\n",
              "           metric_params=None, n_jobs=-1, n_neighbors=5, p=2,\n",
              "           weights='uniform')"
            ]
          },
          "metadata": {
            "tags": []
          },
          "execution_count": 145
        }
      ]
    },
    {
      "cell_type": "code",
      "metadata": {
        "id": "3j4WW-gYACv8",
        "colab_type": "code",
        "colab": {}
      },
      "source": [
        "pred = neigh.predict(X_cv[25000:50000])\n",
        "acc = accuracy_score(y_cv[25000:50000], pred, normalize=True) * float(100)"
      ],
      "execution_count": null,
      "outputs": []
    },
    {
      "cell_type": "code",
      "metadata": {
        "id": "FD-1nJlrACv-",
        "colab_type": "code",
        "colab": {},
        "outputId": "1c0d087f-fbcb-4c91-e7bf-b0f946603a1f"
      },
      "source": [
        "acc"
      ],
      "execution_count": null,
      "outputs": [
        {
          "output_type": "execute_result",
          "data": {
            "text/plain": [
              "85.11999999999999"
            ]
          },
          "metadata": {
            "tags": []
          },
          "execution_count": 147
        }
      ]
    }
  ]
}