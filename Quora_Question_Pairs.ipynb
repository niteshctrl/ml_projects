{
  "nbformat": 4,
  "nbformat_minor": 0,
  "metadata": {
    "colab": {
      "name": "Quora Question Pairs",
      "provenance": [],
      "collapsed_sections": [],
      "toc_visible": true,
      "include_colab_link": true
    },
    "kernelspec": {
      "name": "python3",
      "display_name": "Python 3"
    }
  },
  "cells": [
    {
      "cell_type": "markdown",
      "metadata": {
        "id": "view-in-github",
        "colab_type": "text"
      },
      "source": [
        "<a href=\"https://colab.research.google.com/github/niteshpd/ml_projects/blob/master/Quora_Question_Pairs.ipynb\" target=\"_parent\"><img src=\"https://colab.research.google.com/assets/colab-badge.svg\" alt=\"Open In Colab\"/></a>"
      ]
    },
    {
      "cell_type": "markdown",
      "metadata": {
        "id": "d-oA1a3exxvG",
        "colab_type": "text"
      },
      "source": [
        "## Connecting gDrive"
      ]
    },
    {
      "cell_type": "code",
      "metadata": {
        "id": "Q55kct8Tx5PC",
        "colab_type": "code",
        "colab": {}
      },
      "source": [
        "from google.colab import drive\n",
        "drive.mount('/content/gdrive/')"
      ],
      "execution_count": null,
      "outputs": []
    },
    {
      "cell_type": "markdown",
      "metadata": {
        "id": "xny291wI2k51",
        "colab_type": "text"
      },
      "source": [
        "# 1 Introduction and Data Description\n",
        "\n",
        "The goal of this project is to predict which of the provided pairs of questions have the same meaning. The ground truth is the set of labels that have been supplied by human experts. The ground truth labels are inherently subjective, as the true meaning of sentences can never be known with certainty. Human labeling is also a 'noisy' process, and reasonable people will disagree. As a result, the ground truth labels on this dataset should be taken to be 'informed' but not 100% accurate, and may include incorrect labeling. We believe the labels, on the whole, to represent a reasonable consensus, but this may often not be true on a case by case basis for individual items in the dataset.\n",
        "\n",
        "Please note: as an anti-cheating measure, Kaggle supplemented the test set with computer-generated question pairs. Those rows do not come from Quora, and are not counted in the scoring. All of the questions in the training set are genuine examples from Quora.\n",
        "\n",
        "### Data Fields\n",
        "\n",
        "* id - the id of a training set question pair\n",
        "* qid1, qid2 - unique ids of each question (only available in train.csv)\n",
        "* question1, question2 - the full text of each question\n",
        "* is_duplicate - the target variable, set to 1 if question1 and question2 have essentially the same meaning, and 0 otherwise."
      ]
    },
    {
      "cell_type": "code",
      "metadata": {
        "id": "g4gGAMZB5jb3",
        "colab_type": "code",
        "colab": {
          "base_uri": "https://localhost:8080/",
          "height": 71
        },
        "outputId": "2c84583d-1217-44d9-ea99-3d26709420e9"
      },
      "source": [
        "# Loading the required libraries\n",
        "\n",
        "import pandas as pd\n",
        "import sqlite3\n",
        "import matplotlib.pyplot as plt\n",
        "import seaborn as sns\n",
        "import numpy as np\n",
        "from wordcloud import WordCloud\n",
        "from tqdm import tqdm\n",
        "\n",
        "# Data Cleaning and preprocessing libraries\n",
        "import re\n",
        "import nltk\n",
        "from nltk.stem import SnowballStemmer\n",
        "from nltk.corpus import stopwords\n",
        "from nltk.tokenize import word_tokenize\n",
        "from sklearn.preprocessing import StandardScaler\n",
        "\n",
        "# Modeling libraries\n",
        "import random\n",
        "from sklearn.metrics import log_loss\n",
        "from sklearn.metrics import accuracy_score\n",
        "from sklearn.metrics import confusion_matrix\n",
        "from sklearn.model_selection import train_test_split\n",
        "from sklearn.linear_model import SGDClassifier\n",
        "from sklearn.pipeline import make_pipeline\n",
        "from sklearn.calibration import CalibratedClassifierCV\n",
        "from sklearn.ensemble import GradientBoostingClassifier\n",
        "# import xgboost as xgb\n"
      ],
      "execution_count": 1,
      "outputs": [
        {
          "output_type": "stream",
          "text": [
            "/usr/local/lib/python3.6/dist-packages/statsmodels/tools/_testing.py:19: FutureWarning: pandas.util.testing is deprecated. Use the functions in the public API at pandas.testing instead.\n",
            "  import pandas.util.testing as tm\n"
          ],
          "name": "stderr"
        }
      ]
    },
    {
      "cell_type": "code",
      "metadata": {
        "id": "wBD1srqcOT4G",
        "colab_type": "code",
        "colab": {
          "base_uri": "https://localhost:8080/",
          "height": 102
        },
        "outputId": "cc80b71b-b657-4689-c7bd-fcd739c2cd1e"
      },
      "source": [
        "nltk.download('stopwords')\n",
        "nltk.download('punkt')"
      ],
      "execution_count": null,
      "outputs": [
        {
          "output_type": "stream",
          "text": [
            "[nltk_data] Downloading package stopwords to /root/nltk_data...\n",
            "[nltk_data]   Unzipping corpora/stopwords.zip.\n",
            "[nltk_data] Downloading package punkt to /root/nltk_data...\n",
            "[nltk_data]   Unzipping tokenizers/punkt.zip.\n"
          ],
          "name": "stdout"
        },
        {
          "output_type": "execute_result",
          "data": {
            "text/plain": [
              "True"
            ]
          },
          "metadata": {
            "tags": []
          },
          "execution_count": 35
        }
      ]
    },
    {
      "cell_type": "code",
      "metadata": {
        "id": "nc7TnU055dQK",
        "colab_type": "code",
        "colab": {}
      },
      "source": [
        "# loading the data from drive in pandas dataframe\n",
        "\n",
        "train = pd.read_csv('/content/gdrive/My Drive/datasets/quora/train.csv')"
      ],
      "execution_count": 5,
      "outputs": []
    },
    {
      "cell_type": "markdown",
      "metadata": {
        "id": "MI_A_qhg4hFB",
        "colab_type": "text"
      },
      "source": [
        "# 2 Exploratory Data Analysis"
      ]
    },
    {
      "cell_type": "code",
      "metadata": {
        "id": "HhqYo7mCTrD7",
        "colab_type": "code",
        "colab": {
          "base_uri": "https://localhost:8080/",
          "height": 204
        },
        "outputId": "9531c0bf-9f42-4565-bb22-022441305368"
      },
      "source": [
        "train.head()"
      ],
      "execution_count": null,
      "outputs": [
        {
          "output_type": "execute_result",
          "data": {
            "text/html": [
              "<div>\n",
              "<style scoped>\n",
              "    .dataframe tbody tr th:only-of-type {\n",
              "        vertical-align: middle;\n",
              "    }\n",
              "\n",
              "    .dataframe tbody tr th {\n",
              "        vertical-align: top;\n",
              "    }\n",
              "\n",
              "    .dataframe thead th {\n",
              "        text-align: right;\n",
              "    }\n",
              "</style>\n",
              "<table border=\"1\" class=\"dataframe\">\n",
              "  <thead>\n",
              "    <tr style=\"text-align: right;\">\n",
              "      <th></th>\n",
              "      <th>id</th>\n",
              "      <th>qid1</th>\n",
              "      <th>qid2</th>\n",
              "      <th>question1</th>\n",
              "      <th>question2</th>\n",
              "      <th>is_duplicate</th>\n",
              "    </tr>\n",
              "  </thead>\n",
              "  <tbody>\n",
              "    <tr>\n",
              "      <th>0</th>\n",
              "      <td>0</td>\n",
              "      <td>1</td>\n",
              "      <td>2</td>\n",
              "      <td>What is the step by step guide to invest in sh...</td>\n",
              "      <td>What is the step by step guide to invest in sh...</td>\n",
              "      <td>0</td>\n",
              "    </tr>\n",
              "    <tr>\n",
              "      <th>1</th>\n",
              "      <td>1</td>\n",
              "      <td>3</td>\n",
              "      <td>4</td>\n",
              "      <td>What is the story of Kohinoor (Koh-i-Noor) Dia...</td>\n",
              "      <td>What would happen if the Indian government sto...</td>\n",
              "      <td>0</td>\n",
              "    </tr>\n",
              "    <tr>\n",
              "      <th>2</th>\n",
              "      <td>2</td>\n",
              "      <td>5</td>\n",
              "      <td>6</td>\n",
              "      <td>How can I increase the speed of my internet co...</td>\n",
              "      <td>How can Internet speed be increased by hacking...</td>\n",
              "      <td>0</td>\n",
              "    </tr>\n",
              "    <tr>\n",
              "      <th>3</th>\n",
              "      <td>3</td>\n",
              "      <td>7</td>\n",
              "      <td>8</td>\n",
              "      <td>Why am I mentally very lonely? How can I solve...</td>\n",
              "      <td>Find the remainder when [math]23^{24}[/math] i...</td>\n",
              "      <td>0</td>\n",
              "    </tr>\n",
              "    <tr>\n",
              "      <th>4</th>\n",
              "      <td>4</td>\n",
              "      <td>9</td>\n",
              "      <td>10</td>\n",
              "      <td>Which one dissolve in water quikly sugar, salt...</td>\n",
              "      <td>Which fish would survive in salt water?</td>\n",
              "      <td>0</td>\n",
              "    </tr>\n",
              "  </tbody>\n",
              "</table>\n",
              "</div>"
            ],
            "text/plain": [
              "   id  qid1  ...                                          question2 is_duplicate\n",
              "0   0     1  ...  What is the step by step guide to invest in sh...            0\n",
              "1   1     3  ...  What would happen if the Indian government sto...            0\n",
              "2   2     5  ...  How can Internet speed be increased by hacking...            0\n",
              "3   3     7  ...  Find the remainder when [math]23^{24}[/math] i...            0\n",
              "4   4     9  ...            Which fish would survive in salt water?            0\n",
              "\n",
              "[5 rows x 6 columns]"
            ]
          },
          "metadata": {
            "tags": []
          },
          "execution_count": 6
        }
      ]
    },
    {
      "cell_type": "code",
      "metadata": {
        "id": "bR7jvX6OUKEl",
        "colab_type": "code",
        "colab": {
          "base_uri": "https://localhost:8080/",
          "height": 238
        },
        "outputId": "003e1164-c707-478b-b2f3-85b71ab88566"
      },
      "source": [
        "train.info()"
      ],
      "execution_count": null,
      "outputs": [
        {
          "output_type": "stream",
          "text": [
            "<class 'pandas.core.frame.DataFrame'>\n",
            "RangeIndex: 404290 entries, 0 to 404289\n",
            "Data columns (total 6 columns):\n",
            " #   Column        Non-Null Count   Dtype \n",
            "---  ------        --------------   ----- \n",
            " 0   id            404290 non-null  int64 \n",
            " 1   qid1          404290 non-null  int64 \n",
            " 2   qid2          404290 non-null  int64 \n",
            " 3   question1     404289 non-null  object\n",
            " 4   question2     404288 non-null  object\n",
            " 5   is_duplicate  404290 non-null  int64 \n",
            "dtypes: int64(4), object(2)\n",
            "memory usage: 18.5+ MB\n"
          ],
          "name": "stdout"
        }
      ]
    },
    {
      "cell_type": "markdown",
      "metadata": {
        "id": "kLIw6mVHUXVh",
        "colab_type": "text"
      },
      "source": [
        "\n",
        "\n",
        "---\n",
        "\n",
        "\n",
        "* Number of rows(Training question pairs) = 404290\n",
        "* There are two NULL values in 'question2' column and one NULL value in 'question1' column.\n",
        "\n",
        "---\n",
        "\n"
      ]
    },
    {
      "cell_type": "code",
      "metadata": {
        "id": "GagiVwVyU6ac",
        "colab_type": "code",
        "colab": {
          "base_uri": "https://localhost:8080/",
          "height": 441
        },
        "outputId": "6deaf555-0519-4cf8-d522-807cdce23982"
      },
      "source": [
        "# Distribution of the output classes\n",
        "\n",
        "print(train['is_duplicate'].value_counts())\n",
        "plt.figure(figsize=(6,6))\n",
        "plt.title('Number of Questions Pairs in the two classes')\n",
        "sns.barplot(['Non-Duplicate Pairs', 'Duplicate Pairs'], train['is_duplicate'].value_counts())\n",
        "plt.show()"
      ],
      "execution_count": null,
      "outputs": [
        {
          "output_type": "stream",
          "text": [
            "0    255027\n",
            "1    149263\n",
            "Name: is_duplicate, dtype: int64\n"
          ],
          "name": "stdout"
        },
        {
          "output_type": "display_data",
          "data": {
            "image/png": "[encoded data removed]",
            "text/plain": [
              "<Figure size 432x432 with 1 Axes>"
            ]
          },
          "metadata": {
            "tags": [],
            "needs_background": "light"
          }
        }
      ]
    },
    {
      "cell_type": "code",
      "metadata": {
        "id": "QVmToztfaaZ6",
        "colab_type": "code",
        "colab": {
          "base_uri": "https://localhost:8080/",
          "height": 51
        },
        "outputId": "b3d7a70a-096d-4e98-8e6b-155d7f32adec"
      },
      "source": [
        "# Number of unique questions in the entire dataset\n",
        "\n",
        "ques = list(train['qid1']) + list(train['qid2'])\n",
        "number_of_unique = len(np.unique(ques))\n",
        "print('Number of Unique Questions = {} \\nOut of total of {} questions'.format(number_of_unique, len(ques)))"
      ],
      "execution_count": null,
      "outputs": [
        {
          "output_type": "stream",
          "text": [
            "Number of Unique Questions = 537933 \n",
            "Out of total of 808580 questions\n"
          ],
          "name": "stdout"
        }
      ]
    },
    {
      "cell_type": "code",
      "metadata": {
        "id": "I0WTUVpzyJBt",
        "colab_type": "code",
        "colab": {}
      },
      "source": [
        "# Number of questions appearing once and number of questions repeating\n",
        "\n",
        "qid_frequency = pd.Series(ques).value_counts()"
      ],
      "execution_count": null,
      "outputs": []
    },
    {
      "cell_type": "code",
      "metadata": {
        "id": "QRMc2IJUrBpo",
        "colab_type": "code",
        "colab": {
          "base_uri": "https://localhost:8080/",
          "height": 387
        },
        "outputId": "72a00e12-7afa-479f-9adc-91193df8b4cf"
      },
      "source": [
        "# 'True' value which have duplicates and 'False' which appeared only once\n",
        "count_many_once = pd.Series(ques).duplicated(keep=False).value_counts()\n",
        "print(count_many_once)\n",
        "\n",
        "plt.figure(figsize=(6,5))\n",
        "plt.title('Number of questions appearing Once VS Many')\n",
        "sns.barplot(['Once','Multiple Times'], count_many_once)\n",
        "plt.show()"
      ],
      "execution_count": null,
      "outputs": [
        {
          "output_type": "stream",
          "text": [
            "False    426153\n",
            "True     382427\n",
            "dtype: int64\n"
          ],
          "name": "stdout"
        },
        {
          "output_type": "display_data",
          "data": {
            "image/png": "[encoded data removed]",
            "text/plain": [
              "<Figure size 432x360 with 1 Axes>"
            ]
          },
          "metadata": {
            "tags": [],
            "needs_background": "light"
          }
        }
      ]
    },
    {
      "cell_type": "code",
      "metadata": {
        "id": "gCSTHbHpza-i",
        "colab_type": "code",
        "colab": {
          "base_uri": "https://localhost:8080/",
          "height": 34
        },
        "outputId": "aa7ccdf9-af3d-45d8-90e2-e492ba22a7e4"
      },
      "source": [
        "# Duplicate Rows Check\n",
        "\n",
        "duplicate_pairs = train[train.duplicated(subset=['qid1','qid2'])]\n",
        "print('Number of duplicate question pairs =',len(duplicate_pairs))"
      ],
      "execution_count": null,
      "outputs": [
        {
          "output_type": "stream",
          "text": [
            "Number of duplicate question pairs = 0\n"
          ],
          "name": "stdout"
        }
      ]
    },
    {
      "cell_type": "code",
      "metadata": {
        "id": "Fo4cS3zJ4nix",
        "colab_type": "code",
        "colab": {
          "base_uri": "https://localhost:8080/",
          "height": 388
        },
        "outputId": "3ff9d471-36d4-49cc-d1e5-58d77ff1ffff"
      },
      "source": [
        "# Histogram of Occurence of each question\n",
        "\n",
        "plt.figure(figsize=(14,6))\n",
        "plt.hist(qid_frequency, bins = 160)\n",
        "plt.yscale('log')\n",
        "plt.xlabel('Number of occurences of question')\n",
        "plt.ylabel('Number of questions')\n",
        "plt.show()"
      ],
      "execution_count": null,
      "outputs": [
        {
          "output_type": "display_data",
          "data": {
            "image/png": "[encoded data removed]",
            "text/plain": [
              "<Figure size 1008x432 with 1 Axes>"
            ]
          },
          "metadata": {
            "tags": [],
            "needs_background": "light"
          }
        }
      ]
    },
    {
      "cell_type": "markdown",
      "metadata": {
        "id": "gEyXv8SN-yAZ",
        "colab_type": "text"
      },
      "source": [
        "# 3 Data Cleaning(Text Preprocessing)\n",
        "* HTML tags Removal\n",
        "* Punctuation Removal\n",
        "* Stemming\n",
        "* Stopword Removal\n",
        "* Conversion to lowecase\n",
        "* Expanding Contractions\n",
        "\n",
        "Ref : https://towardsdatascience.com/nlp-text-preprocessing-a-practical-guide-and-template-d80874676e79"
      ]
    },
    {
      "cell_type": "code",
      "metadata": {
        "id": "E8SIv3XdH_bx",
        "colab_type": "code",
        "colab": {}
      },
      "source": [
        "# Spacy could be better used instead of nltk as it gives finer results\n",
        "\n",
        "\n",
        "def _html_cleaner(sentence):\n",
        "    # Ref: https://medium.com/@jorlugaqui/how-to-strip-html-tags-from-a-string-in-python-7cb81a2bbf44\n",
        "    clean = re.compile('<.*?>')\n",
        "    return re.sub(clean, ' ', sentence).strip()\n",
        "\n",
        "\n",
        "def _punc_cleaner(sentence):\n",
        "    # Define puctuations wisely or it can be disastrous\n",
        "    punctuations = '!?#$%^&*,:;-_(){}[]' # 14 Punctuations + more\n",
        "    for character in sentence:\n",
        "        if character in punctuations:\n",
        "            sentence = sentence.replace(character, \" \")\n",
        "    return sentence.strip()\n",
        "\n",
        "\n",
        "def _stemming(sentence):\n",
        "    # This function also coverts and returns in lowercase\n",
        "    words = sentence.split()\n",
        "    snow = SnowballStemmer('english')\n",
        "    stemmed = ''\n",
        "    for word in words:\n",
        "        stemmed = stemmed + snow.stem(word) + ' '\n",
        "    return stemmed.strip()\n",
        "    # Lemmatization can also be used instead\n",
        "\n",
        "\n",
        "def _stop_removal(sentence):\n",
        "    # Ref: https://www.analyticsvidhya.com/blog/2019/08/how-to-remove-stopwords-text-normalization-nltk-spacy-gensim-python/\n",
        "    ''' This could be skipped as removing stopwords doesnot necessarily\n",
        "    always improve accuracy. Read more to find when.'''\n",
        "\n",
        "    stop_words = set(stopwords.words('english'))\n",
        "    word_tokens = word_tokenize(sentence)\n",
        "    filtered_sentence = ''\n",
        "    for w in word_tokens:\n",
        "        if w not in stop_words:\n",
        "            filtered_sentence = filtered_sentence + w + ' '\n",
        "    return filtered_sentence.strip()\n",
        "\n",
        "\n",
        "def _expand_contractions(sentence):\n",
        "    # TBD\n",
        "    pass\n",
        "\n",
        "\n",
        "def _treat_numbers(sentence):\n",
        "    # TBD\n",
        "    pass\n"
      ],
      "execution_count": null,
      "outputs": []
    },
    {
      "cell_type": "code",
      "metadata": {
        "id": "zV8R0nwoWPtp",
        "colab_type": "code",
        "colab": {
          "base_uri": "https://localhost:8080/",
          "height": 714
        },
        "outputId": "00549bb7-5ee4-4ddf-c41c-7b355734c8da"
      },
      "source": [
        "# Calling the above functions\n",
        "\n",
        "\n",
        "for i in tqdm(range(100000)):\n",
        "    train['question1'][i] = _html_cleaner(train['question1'][i])\n",
        "    train['question1'][i] = _punc_cleaner(train['question1'][i])\n",
        "    train['question1'][i] = _stemming(train['question1'][i])\n",
        "    train['question1'][i] = _stop_removal(train['question1'][i])\n",
        "    train['question2'][i] = _html_cleaner(train['question2'][i])\n",
        "    train['question2'][i] = _punc_cleaner(train['question2'][i])\n",
        "    train['question2'][i] = _stemming(train['question2'][i])\n",
        "    train['question2'][i] = _stop_removal(train['question2'][i])"
      ],
      "execution_count": null,
      "outputs": [
        {
          "output_type": "stream",
          "text": [
            "  0%|          | 0/100000 [00:00<?, ?it/s]/usr/local/lib/python3.6/dist-packages/ipykernel_launcher.py:5: SettingWithCopyWarning: \n",
            "A value is trying to be set on a copy of a slice from a DataFrame\n",
            "\n",
            "See the caveats in the documentation: https://pandas.pydata.org/pandas-docs/stable/user_guide/indexing.html#returning-a-view-versus-a-copy\n",
            "  \"\"\"\n",
            "/usr/local/lib/python3.6/dist-packages/ipykernel_launcher.py:6: SettingWithCopyWarning: \n",
            "A value is trying to be set on a copy of a slice from a DataFrame\n",
            "\n",
            "See the caveats in the documentation: https://pandas.pydata.org/pandas-docs/stable/user_guide/indexing.html#returning-a-view-versus-a-copy\n",
            "  \n",
            "/usr/local/lib/python3.6/dist-packages/ipykernel_launcher.py:7: SettingWithCopyWarning: \n",
            "A value is trying to be set on a copy of a slice from a DataFrame\n",
            "\n",
            "See the caveats in the documentation: https://pandas.pydata.org/pandas-docs/stable/user_guide/indexing.html#returning-a-view-versus-a-copy\n",
            "  import sys\n",
            "/usr/local/lib/python3.6/dist-packages/ipykernel_launcher.py:8: SettingWithCopyWarning: \n",
            "A value is trying to be set on a copy of a slice from a DataFrame\n",
            "\n",
            "See the caveats in the documentation: https://pandas.pydata.org/pandas-docs/stable/user_guide/indexing.html#returning-a-view-versus-a-copy\n",
            "  \n",
            "/usr/local/lib/python3.6/dist-packages/ipykernel_launcher.py:9: SettingWithCopyWarning: \n",
            "A value is trying to be set on a copy of a slice from a DataFrame\n",
            "\n",
            "See the caveats in the documentation: https://pandas.pydata.org/pandas-docs/stable/user_guide/indexing.html#returning-a-view-versus-a-copy\n",
            "  if __name__ == '__main__':\n",
            "/usr/local/lib/python3.6/dist-packages/ipykernel_launcher.py:10: SettingWithCopyWarning: \n",
            "A value is trying to be set on a copy of a slice from a DataFrame\n",
            "\n",
            "See the caveats in the documentation: https://pandas.pydata.org/pandas-docs/stable/user_guide/indexing.html#returning-a-view-versus-a-copy\n",
            "  # Remove the CWD from sys.path while we load stuff.\n",
            "/usr/local/lib/python3.6/dist-packages/ipykernel_launcher.py:11: SettingWithCopyWarning: \n",
            "A value is trying to be set on a copy of a slice from a DataFrame\n",
            "\n",
            "See the caveats in the documentation: https://pandas.pydata.org/pandas-docs/stable/user_guide/indexing.html#returning-a-view-versus-a-copy\n",
            "  # This is added back by InteractiveShellApp.init_path()\n",
            "/usr/local/lib/python3.6/dist-packages/ipykernel_launcher.py:12: SettingWithCopyWarning: \n",
            "A value is trying to be set on a copy of a slice from a DataFrame\n",
            "\n",
            "See the caveats in the documentation: https://pandas.pydata.org/pandas-docs/stable/user_guide/indexing.html#returning-a-view-versus-a-copy\n",
            "  if sys.path[0] == '':\n",
            "100%|██████████| 100000/100000 [1:12:43<00:00, 22.92it/s]\n"
          ],
          "name": "stderr"
        }
      ]
    },
    {
      "cell_type": "code",
      "metadata": {
        "id": "jeLiKBGv_5hx",
        "colab_type": "code",
        "colab": {
          "base_uri": "https://localhost:8080/",
          "height": 419
        },
        "outputId": "3787b22f-e43b-4f1e-c8fd-0eaa51421b4a"
      },
      "source": [
        "train"
      ],
      "execution_count": null,
      "outputs": [
        {
          "output_type": "execute_result",
          "data": {
            "text/html": [
              "<div>\n",
              "<style scoped>\n",
              "    .dataframe tbody tr th:only-of-type {\n",
              "        vertical-align: middle;\n",
              "    }\n",
              "\n",
              "    .dataframe tbody tr th {\n",
              "        vertical-align: top;\n",
              "    }\n",
              "\n",
              "    .dataframe thead th {\n",
              "        text-align: right;\n",
              "    }\n",
              "</style>\n",
              "<table border=\"1\" class=\"dataframe\">\n",
              "  <thead>\n",
              "    <tr style=\"text-align: right;\">\n",
              "      <th></th>\n",
              "      <th>id</th>\n",
              "      <th>qid1</th>\n",
              "      <th>qid2</th>\n",
              "      <th>question1</th>\n",
              "      <th>question2</th>\n",
              "      <th>is_duplicate</th>\n",
              "    </tr>\n",
              "  </thead>\n",
              "  <tbody>\n",
              "    <tr>\n",
              "      <th>0</th>\n",
              "      <td>0</td>\n",
              "      <td>1</td>\n",
              "      <td>2</td>\n",
              "      <td>What is the step by step guide to invest in sh...</td>\n",
              "      <td>What is the step by step guide to invest in sh...</td>\n",
              "      <td>0</td>\n",
              "    </tr>\n",
              "    <tr>\n",
              "      <th>1</th>\n",
              "      <td>1</td>\n",
              "      <td>3</td>\n",
              "      <td>4</td>\n",
              "      <td>What is the story of Kohinoor (Koh-i-Noor) Dia...</td>\n",
              "      <td>What would happen if the Indian government sto...</td>\n",
              "      <td>0</td>\n",
              "    </tr>\n",
              "    <tr>\n",
              "      <th>2</th>\n",
              "      <td>2</td>\n",
              "      <td>5</td>\n",
              "      <td>6</td>\n",
              "      <td>How can I increase the speed of my internet co...</td>\n",
              "      <td>How can Internet speed be increased by hacking...</td>\n",
              "      <td>0</td>\n",
              "    </tr>\n",
              "    <tr>\n",
              "      <th>3</th>\n",
              "      <td>3</td>\n",
              "      <td>7</td>\n",
              "      <td>8</td>\n",
              "      <td>Why am I mentally very lonely? How can I solve...</td>\n",
              "      <td>Find the remainder when [math]23^{24}[/math] i...</td>\n",
              "      <td>0</td>\n",
              "    </tr>\n",
              "    <tr>\n",
              "      <th>4</th>\n",
              "      <td>4</td>\n",
              "      <td>9</td>\n",
              "      <td>10</td>\n",
              "      <td>Which one dissolve in water quikly sugar, salt...</td>\n",
              "      <td>Which fish would survive in salt water?</td>\n",
              "      <td>0</td>\n",
              "    </tr>\n",
              "    <tr>\n",
              "      <th>...</th>\n",
              "      <td>...</td>\n",
              "      <td>...</td>\n",
              "      <td>...</td>\n",
              "      <td>...</td>\n",
              "      <td>...</td>\n",
              "      <td>...</td>\n",
              "    </tr>\n",
              "    <tr>\n",
              "      <th>404285</th>\n",
              "      <td>404285</td>\n",
              "      <td>433578</td>\n",
              "      <td>379845</td>\n",
              "      <td>How many keywords are there in the Racket prog...</td>\n",
              "      <td>How many keywords are there in PERL Programmin...</td>\n",
              "      <td>0</td>\n",
              "    </tr>\n",
              "    <tr>\n",
              "      <th>404286</th>\n",
              "      <td>404286</td>\n",
              "      <td>18840</td>\n",
              "      <td>155606</td>\n",
              "      <td>Do you believe there is life after death?</td>\n",
              "      <td>Is it true that there is life after death?</td>\n",
              "      <td>1</td>\n",
              "    </tr>\n",
              "    <tr>\n",
              "      <th>404287</th>\n",
              "      <td>404287</td>\n",
              "      <td>537928</td>\n",
              "      <td>537929</td>\n",
              "      <td>What is one coin?</td>\n",
              "      <td>What's this coin?</td>\n",
              "      <td>0</td>\n",
              "    </tr>\n",
              "    <tr>\n",
              "      <th>404288</th>\n",
              "      <td>404288</td>\n",
              "      <td>537930</td>\n",
              "      <td>537931</td>\n",
              "      <td>What is the approx annual cost of living while...</td>\n",
              "      <td>I am having little hairfall problem but I want...</td>\n",
              "      <td>0</td>\n",
              "    </tr>\n",
              "    <tr>\n",
              "      <th>404289</th>\n",
              "      <td>404289</td>\n",
              "      <td>537932</td>\n",
              "      <td>537933</td>\n",
              "      <td>What is like to have sex with cousin?</td>\n",
              "      <td>What is it like to have sex with your cousin?</td>\n",
              "      <td>0</td>\n",
              "    </tr>\n",
              "  </tbody>\n",
              "</table>\n",
              "<p>404290 rows × 6 columns</p>\n",
              "</div>"
            ],
            "text/plain": [
              "            id  ...  is_duplicate\n",
              "0            0  ...             0\n",
              "1            1  ...             0\n",
              "2            2  ...             0\n",
              "3            3  ...             0\n",
              "4            4  ...             0\n",
              "...        ...  ...           ...\n",
              "404285  404285  ...             0\n",
              "404286  404286  ...             1\n",
              "404287  404287  ...             0\n",
              "404288  404288  ...             0\n",
              "404289  404289  ...             0\n",
              "\n",
              "[404290 rows x 6 columns]"
            ]
          },
          "metadata": {
            "tags": []
          },
          "execution_count": 77
        }
      ]
    },
    {
      "cell_type": "code",
      "metadata": {
        "id": "aoivMCOzLMyy",
        "colab_type": "code",
        "colab": {}
      },
      "source": [
        "# Better to perform this before preprocessing but remove stopwords\n",
        "\n",
        "def _plot_wcloud(text):\n",
        "    # Ref: https://towardsdatascience.com/simple-wordcloud-in-python-2ae54a9f58e5\n",
        "    wc = WordCloud(width = 500, height = 200)\n",
        "    wc.generate(text)\n",
        "    # Set figure size\n",
        "    # plt.figure(figsize=(50,50))\n",
        "    # Display Image\n",
        "    plt.imshow(wc)\n",
        "    plt.axis(\"off\")\n",
        "    plt.show()"
      ],
      "execution_count": null,
      "outputs": []
    },
    {
      "cell_type": "code",
      "metadata": {
        "id": "NvmlPa9-LQb8",
        "colab_type": "code",
        "colab": {
          "base_uri": "https://localhost:8080/",
          "height": 34
        },
        "outputId": "ad057a74-9c2c-447c-f759-5cd12c9b6e93"
      },
      "source": [
        "dup_ques = ''\n",
        "nondup_ques = ''\n",
        "for i in tqdm(range(100000)):\n",
        "    if train['is_duplicate'][i] == 0:\n",
        "        for word in word_tokenize(train['question1'][i]):\n",
        "            nondup_ques = nondup_ques + word + ' '\n",
        "        for word in word_tokenize(train['question2'][i]):\n",
        "            nondup_ques = nondup_ques + word + ' '\n",
        "    else:\n",
        "        for word in word_tokenize(train['question1'][i]):\n",
        "            dup_ques = dup_ques + word + ' '\n",
        "        for word in word_tokenize(train['question2'][i]):\n",
        "            dup_ques = dup_ques + word + ' '"
      ],
      "execution_count": null,
      "outputs": [
        {
          "output_type": "stream",
          "text": [
            "100%|██████████| 100000/100000 [16:55<00:00, 98.43it/s]\n"
          ],
          "name": "stderr"
        }
      ]
    },
    {
      "cell_type": "code",
      "metadata": {
        "id": "oP-2ZVBeN4RQ",
        "colab_type": "code",
        "colab": {
          "base_uri": "https://localhost:8080/",
          "height": 165
        },
        "outputId": "d32d9bb3-0817-424c-b158-4cbeeff5b818"
      },
      "source": [
        "_plot_wcloud(dup_ques)"
      ],
      "execution_count": null,
      "outputs": [
        {
          "output_type": "display_data",
          "data": {
            "image/png": "[encoded data removed]",
            "text/plain": [
              "<Figure size 432x288 with 1 Axes>"
            ]
          },
          "metadata": {
            "tags": [],
            "needs_background": "light"
          }
        }
      ]
    },
    {
      "cell_type": "code",
      "metadata": {
        "id": "P7_4uu3tOC7B",
        "colab_type": "code",
        "colab": {
          "base_uri": "https://localhost:8080/",
          "height": 165
        },
        "outputId": "06a11399-899b-4969-cf8b-e2786742c0a6"
      },
      "source": [
        "_plot_wcloud(nondup_ques)"
      ],
      "execution_count": null,
      "outputs": [
        {
          "output_type": "display_data",
          "data": {
            "image/png": "[encoded data removed]",
            "text/plain": [
              "<Figure size 432x288 with 1 Axes>"
            ]
          },
          "metadata": {
            "tags": [],
            "needs_background": "light"
          }
        }
      ]
    },
    {
      "cell_type": "markdown",
      "metadata": {
        "id": "0Ed1G6hE8H5S",
        "colab_type": "text"
      },
      "source": [
        "# 4 Featurization"
      ]
    },
    {
      "cell_type": "code",
      "metadata": {
        "id": "mxOj-mn6g4MU",
        "colab_type": "code",
        "colab": {}
      },
      "source": [
        "# Download Glove file\n",
        "# Also try GloVe Common Crawl\n",
        "# Here we will be using Google News Word2Vec Model\n",
        "\n",
        "# !wget "
      ],
      "execution_count": null,
      "outputs": []
    },
    {
      "cell_type": "code",
      "metadata": {
        "id": "ds04qNoAjR8I",
        "colab_type": "code",
        "colab": {}
      },
      "source": [
        "# Extract the downloaded file from gdrive\n",
        "\n",
        "!gunzip /content/gdrive/My\\ Drive/datasets/google_news_vectors.bin.gz"
      ],
      "execution_count": null,
      "outputs": []
    },
    {
      "cell_type": "code",
      "metadata": {
        "id": "UWzHgh3BC8YD",
        "colab_type": "code",
        "colab": {
          "base_uri": "https://localhost:8080/",
          "height": 71
        },
        "outputId": "f7dfc8b3-700c-423a-b478-246b57fbab82"
      },
      "source": [
        "from gensim.models import Word2Vec\n",
        "from gensim.models import KeyedVectors\n",
        "import pickle\n",
        "\n",
        "w2v_model = KeyedVectors.load_word2vec_format('/content/gdrive/My Drive/datasets/google_news_vectors.bin', binary = True)"
      ],
      "execution_count": null,
      "outputs": [
        {
          "output_type": "stream",
          "text": [
            "/usr/local/lib/python3.6/dist-packages/smart_open/smart_open_lib.py:254: UserWarning: This function is deprecated, use smart_open.open instead. See the migration notes for details: https://github.com/RaRe-Technologies/smart_open/blob/master/README.rst#migrating-to-the-new-open-function\n",
            "  'See the migration notes for details: %s' % _MIGRATION_NOTES_URL\n"
          ],
          "name": "stderr"
        }
      ]
    },
    {
      "cell_type": "code",
      "metadata": {
        "id": "J5w1cAKSD7Xy",
        "colab_type": "code",
        "colab": {}
      },
      "source": [
        "# Building Avg Word2Vec of our Questions\n",
        "\n",
        "def avg_w2vec(sentence):\n",
        "    split_words = sentence.split()\n",
        "    c = 0\n",
        "    vector = np.zeros((1,300))\n",
        "    for word in split_words:\n",
        "        if word in w2v_model.vocab:\n",
        "            vector += w2v_model[word].reshape(1,300)\n",
        "            c = c + 1\n",
        "    if c is not 0:\n",
        "        return vector/c\n",
        "    else:\n",
        "        return np.zeros([1,300])"
      ],
      "execution_count": null,
      "outputs": []
    },
    {
      "cell_type": "code",
      "metadata": {
        "id": "pXjLMd5HEYbj",
        "colab_type": "code",
        "colab": {}
      },
      "source": [
        "num_data_points = 100000\n",
        "questions_avg_w2v = np.zeros([num_data_points,600])"
      ],
      "execution_count": null,
      "outputs": []
    },
    {
      "cell_type": "code",
      "metadata": {
        "id": "omz8VfK0H3qQ",
        "colab_type": "code",
        "colab": {
          "base_uri": "https://localhost:8080/",
          "height": 34
        },
        "outputId": "e01d5c58-c988-4521-b554-3cb5212794d4"
      },
      "source": [
        "for i in tqdm(range(num_data_points)):\n",
        "    questions_avg_w2v[i] = np.concatenate((avg_w2vec(train['question1'][i]), avg_w2vec(train['question2'][i])), axis=1)"
      ],
      "execution_count": null,
      "outputs": [
        {
          "output_type": "stream",
          "text": [
            "100%|██████████| 100000/100000 [00:13<00:00, 7206.91it/s]\n"
          ],
          "name": "stderr"
        }
      ]
    },
    {
      "cell_type": "code",
      "metadata": {
        "id": "JJZChW1jJDJc",
        "colab_type": "code",
        "colab": {
          "base_uri": "https://localhost:8080/",
          "height": 34
        },
        "outputId": "fb89dca2-9353-4331-cb02-068081b72a30"
      },
      "source": [
        "questions_avg_w2v.shape"
      ],
      "execution_count": null,
      "outputs": [
        {
          "output_type": "execute_result",
          "data": {
            "text/plain": [
              "(100000, 600)"
            ]
          },
          "metadata": {
            "tags": []
          },
          "execution_count": 93
        }
      ]
    },
    {
      "cell_type": "code",
      "metadata": {
        "id": "vn02KfbVJLJl",
        "colab_type": "code",
        "colab": {}
      },
      "source": [
        "# Saving the average Word2Vec array to numpy file\n",
        "\n",
        "np.save('/content/gdrive/My Drive/datasets/quora/featurized_input.npy', questions_avg_w2v)"
      ],
      "execution_count": null,
      "outputs": []
    },
    {
      "cell_type": "code",
      "metadata": {
        "id": "oR-0NL5fJbvA",
        "colab_type": "code",
        "colab": {}
      },
      "source": [
        "# Loading the saved file from drive\n",
        "\n",
        "questions_avg_w2v = np.load('/content/gdrive/My Drive/datasets/quora/featurized_input.npy')"
      ],
      "execution_count": 3,
      "outputs": []
    },
    {
      "cell_type": "code",
      "metadata": {
        "id": "Ua7CKFWnLQqF",
        "colab_type": "code",
        "colab": {}
      },
      "source": [
        "# Storing labels in a separate variable\n",
        "\n",
        "y_true = train['is_duplicate'][0:100000]"
      ],
      "execution_count": 6,
      "outputs": []
    },
    {
      "cell_type": "markdown",
      "metadata": {
        "id": "YM9b1iDlJ9w0",
        "colab_type": "text"
      },
      "source": [
        "# 5 Model Exploration"
      ]
    },
    {
      "cell_type": "code",
      "metadata": {
        "id": "iMa6Jz5nNj7W",
        "colab_type": "code",
        "colab": {}
      },
      "source": [
        "# Data Splitting\n",
        "\n",
        "X_train, X_cv, y_train, y_cv = train_test_split(questions_avg_w2v[0:20000], y_true[0:20000], test_size=0.3)"
      ],
      "execution_count": 7,
      "outputs": []
    },
    {
      "cell_type": "code",
      "metadata": {
        "id": "G0JHUbi7H-yD",
        "colab_type": "code",
        "colab": {}
      },
      "source": [
        "# Confusion Matrix Heatmap function definition\n",
        "# Ref: https://medium.com/@dtuk81/confusion-matrix-visualization-fc31e3f30fea\n",
        "\n",
        "def _confusion_matrix_heatmap(y_tru, y_predicted):\n",
        "    cf_matrix = confusion_matrix(y_tru, y_predicted)\n",
        "    group_names = ['True Neg','False Pos','False Neg','True Pos']\n",
        "    group_counts = [\"{0:0.0f}\".format(value) for value in cf_matrix.flatten()]\n",
        "    group_percentages = [\"{0:.2%}\".format(value) for value in cf_matrix.flatten()/np.sum(cf_matrix)]\n",
        "    labels = [f\"{v1}\\n{v2}\\n{v3}\" for v1, v2, v3 in zip(group_names,group_counts,group_percentages)]\n",
        "    labels = np.asarray(labels).reshape(2,2)\n",
        "\n",
        "    return sns.heatmap(cf_matrix, annot=labels, fmt='', cmap='Blues')"
      ],
      "execution_count": 16,
      "outputs": []
    },
    {
      "cell_type": "markdown",
      "metadata": {
        "id": "Trakl3b7MiLD",
        "colab_type": "text"
      },
      "source": [
        "## 5.1 Random Model"
      ]
    },
    {
      "cell_type": "code",
      "metadata": {
        "id": "e0kbxNK_PMSD",
        "colab_type": "code",
        "colab": {
          "base_uri": "https://localhost:8080/",
          "height": 34
        },
        "outputId": "aa49210b-b1a9-4676-c627-22a201d662a7"
      },
      "source": [
        "# This is to define the upper bound of log loss of our models.\n",
        "\n",
        "y_pred = np.random.rand(100000)\n",
        "\n",
        "log_loss(y_true, y_pred)"
      ],
      "execution_count": null,
      "outputs": [
        {
          "output_type": "execute_result",
          "data": {
            "text/plain": [
              "0.9987112719829875"
            ]
          },
          "metadata": {
            "tags": []
          },
          "execution_count": 98
        }
      ]
    },
    {
      "cell_type": "markdown",
      "metadata": {
        "id": "IIDNfXnNlqAC",
        "colab_type": "text"
      },
      "source": [
        "\n",
        "\n",
        "---\n",
        "\n",
        "\n",
        "This is the upper bound of our log loss and all the subsequent explored models should have loss less than it.\n",
        "\n",
        "---\n",
        "\n"
      ]
    },
    {
      "cell_type": "code",
      "metadata": {
        "id": "ZzY98NptdPfP",
        "colab_type": "code",
        "colab": {
          "base_uri": "https://localhost:8080/",
          "height": 34
        },
        "outputId": "81a99c6f-2b48-4c4d-ad72-0bffb63c6ac5"
      },
      "source": [
        "test_len = 100000\n",
        "predicted_y = np.zeros((test_len,2))\n",
        "for i in range(test_len):\n",
        "    rand_probs = np.random.rand(1,2)\n",
        "    predicted_y[i] = ((rand_probs/sum(sum(rand_probs)))[0])\n",
        "    i\n",
        "print(\"Log loss on Test Data using Random Model\",log_loss(y_true, predicted_y, eps=1e-15))"
      ],
      "execution_count": null,
      "outputs": [
        {
          "output_type": "stream",
          "text": [
            "Log loss on Test Data using Random Model 0.8852880581260805\n"
          ],
          "name": "stdout"
        }
      ]
    },
    {
      "cell_type": "markdown",
      "metadata": {
        "id": "H1T2okZB6_wd",
        "colab_type": "text"
      },
      "source": [
        "\n",
        "\n",
        "---\n",
        "\n",
        "\n",
        "This is strange. Single column method gives us logloss of ~1 while double column method gives better log loss with ~0.88.\n",
        "\n",
        "---\n",
        "\n"
      ]
    },
    {
      "cell_type": "code",
      "metadata": {
        "id": "YFkYuxKPtk16",
        "colab_type": "code",
        "colab": {}
      },
      "source": [
        "t_trans = predicted_y.transpose()"
      ],
      "execution_count": null,
      "outputs": []
    },
    {
      "cell_type": "code",
      "metadata": {
        "id": "2f8Zv9S70dFg",
        "colab_type": "code",
        "colab": {
          "base_uri": "https://localhost:8080/",
          "height": 282
        },
        "outputId": "c9d415c7-e546-4c2a-9b91-1577d769cef2"
      },
      "source": [
        "sns.distplot(t_trans[0])"
      ],
      "execution_count": null,
      "outputs": [
        {
          "output_type": "execute_result",
          "data": {
            "text/plain": [
              "<matplotlib.axes._subplots.AxesSubplot at 0x7f7b2df4a2b0>"
            ]
          },
          "metadata": {
            "tags": []
          },
          "execution_count": 101
        },
        {
          "output_type": "display_data",
          "data": {
            "image/png": "[encoded data removed]",
            "text/plain": [
              "<Figure size 432x288 with 1 Axes>"
            ]
          },
          "metadata": {
            "tags": [],
            "needs_background": "light"
          }
        }
      ]
    },
    {
      "cell_type": "code",
      "metadata": {
        "id": "hawpibyA0p7t",
        "colab_type": "code",
        "colab": {
          "base_uri": "https://localhost:8080/",
          "height": 282
        },
        "outputId": "77610ece-4a91-43b0-c56a-4d8cf0e56fcd"
      },
      "source": [
        "sns.distplot(y_pred)"
      ],
      "execution_count": null,
      "outputs": [
        {
          "output_type": "execute_result",
          "data": {
            "text/plain": [
              "<matplotlib.axes._subplots.AxesSubplot at 0x7f7b2d65c8d0>"
            ]
          },
          "metadata": {
            "tags": []
          },
          "execution_count": 102
        },
        {
          "output_type": "display_data",
          "data": {
            "image/png": "[encoded data removed]",
            "text/plain": [
              "<Figure size 432x288 with 1 Axes>"
            ]
          },
          "metadata": {
            "tags": [],
            "needs_background": "light"
          }
        }
      ]
    },
    {
      "cell_type": "markdown",
      "metadata": {
        "id": "tvX6j11s7YrM",
        "colab_type": "text"
      },
      "source": [
        "---\n",
        "The difference in logloss of the two methods is due to different distribution of data points. Normalizing the two columns to add to 1 made the uniformly distributed data to normally distributed with mean 0.5 as evident by above distribution plots.\n",
        "\n",
        "\n",
        "---\n",
        "\n"
      ]
    },
    {
      "cell_type": "markdown",
      "metadata": {
        "id": "ZXGkW6OC3vgZ",
        "colab_type": "text"
      },
      "source": [
        "## 5.2 Logistic Regression"
      ]
    },
    {
      "cell_type": "code",
      "metadata": {
        "id": "GODfX9mnmlJJ",
        "colab_type": "code",
        "colab": {
          "base_uri": "https://localhost:8080/",
          "height": 170
        },
        "outputId": "5613e02f-ba50-4211-b036-98712af34d6e"
      },
      "source": [
        "# Also try by making pipeline and StandardScalar to scale the inputs\n",
        "\n",
        "alpha = [10 ** i for i in range(-6,1)]\n",
        "log_loss_array = []\n",
        "print('Results on CV set:\\n')\n",
        "for j in alpha:\n",
        "    clf = SGDClassifier(loss='log', penalty='l2', alpha=j, fit_intercept=True, n_jobs=-1)\n",
        "    clf.fit(X_train, y_train)\n",
        "    cal_clf = CalibratedClassifierCV(clf, method='sigmoid') # Why Calibrated Classifier?\n",
        "    cal_clf.fit(X_train, y_train)\n",
        "    y_cv_proba = cal_clf.predict_proba(X_cv)\n",
        "    y_cv_pred = clf.predict(X_cv)\n",
        "    temp_loss = log_loss(y_cv, y_cv_proba)\n",
        "    log_loss_array.append(temp_loss)\n",
        "    print(\"For alpha = {}, logloss = {}\".format(j, round(temp_loss, 4)))\n",
        "\n"
      ],
      "execution_count": null,
      "outputs": [
        {
          "output_type": "stream",
          "text": [
            "Results on CV set:\n",
            "\n",
            "For alpha = 1e-06, logloss = 0.6406\n",
            "For alpha = 1e-05, logloss = 0.6325\n",
            "For alpha = 0.0001, logloss = 0.6293\n",
            "For alpha = 0.001, logloss = 0.6261\n",
            "For alpha = 0.01, logloss = 0.632\n",
            "For alpha = 0.1, logloss = 0.6404\n",
            "For alpha = 1, logloss = 0.6459\n"
          ],
          "name": "stdout"
        }
      ]
    },
    {
      "cell_type": "markdown",
      "metadata": {
        "id": "GIfbn4hzQRFk",
        "colab_type": "text"
      },
      "source": [
        "---\n",
        "\n",
        "We observe that the above model works best for alpha = 0.0001. So we proceed further using this value to investigate further metrics like Precision, Recall and F1-Score.\n",
        "\n",
        "---"
      ]
    },
    {
      "cell_type": "code",
      "metadata": {
        "id": "COQ_E_ZJ5eW5",
        "colab_type": "code",
        "colab": {
          "base_uri": "https://localhost:8080/",
          "height": 51
        },
        "outputId": "b1c854df-75f7-4b05-bab7-3abac39380dc"
      },
      "source": [
        "alpha_opt_idx = np.argmin(log_loss_array)       # Optimal alpha\n",
        "loss_opt_idx = log_loss_array[alpha_opt_idx]    # Optimal loss\n",
        "\n",
        "clf = SGDClassifier(loss='log', penalty='l2', alpha=alpha[alpha_opt_idx], fit_intercept=True, n_jobs=-1)\n",
        "clf.fit(X_train, y_train)\n",
        "cal_clf = CalibratedClassifierCV(clf, method='sigmoid')\n",
        "cal_clf.fit(X_train, y_train)\n",
        "\n",
        "y_cv_proba = cal_clf.predict_proba(X_cv)\n",
        "y_train_proba = cal_clf.predict_proba(X_train)\n",
        "\n",
        "print('Train log loss for optimal alpha = ',round(log_loss(y_train, y_train_proba), 4))\n",
        "print('CV log loss optimal alpha = ',round(log_loss(y_cv, y_cv_proba), 4))"
      ],
      "execution_count": null,
      "outputs": [
        {
          "output_type": "stream",
          "text": [
            "Train log loss for optimal alpha =  0.5999\n",
            "CV log loss optimal alpha =  0.626\n"
          ],
          "name": "stdout"
        }
      ]
    },
    {
      "cell_type": "code",
      "metadata": {
        "id": "ZqBCFXbf1IHp",
        "colab_type": "code",
        "colab": {
          "base_uri": "https://localhost:8080/",
          "height": 282
        },
        "outputId": "3f6c66de-9c03-4135-945e-9f144b57c42a"
      },
      "source": [
        "_confusion_matrix_heatmap(y_cv, cal_clf.predict(X_cv))"
      ],
      "execution_count": null,
      "outputs": [
        {
          "output_type": "execute_result",
          "data": {
            "text/plain": [
              "<matplotlib.axes._subplots.AxesSubplot at 0x7fa568e4d198>"
            ]
          },
          "metadata": {
            "tags": []
          },
          "execution_count": 20
        },
        {
          "output_type": "display_data",
          "data": {
            "image/png": "[encoded data removed]",
            "text/plain": [
              "<Figure size 432x288 with 2 Axes>"
            ]
          },
          "metadata": {
            "tags": [],
            "needs_background": "light"
          }
        }
      ]
    },
    {
      "cell_type": "markdown",
      "metadata": {
        "id": "txoHAd75p8FC",
        "colab_type": "text"
      },
      "source": [
        "## 5.3 GBDT and XGBoost"
      ]
    },
    {
      "cell_type": "code",
      "metadata": {
        "id": "kcCW6vNaqDSN",
        "colab_type": "code",
        "colab": {}
      },
      "source": [
        "depth = 20\n",
        "while depth < 100:\n",
        "    clf_gbdt = GradientBoostingClassifier(n_estimators=10,max_depth=depth, verbose=1)\n",
        "    clf_gbdt.fit(X_train, y_train)\n",
        "    print(log_loss(y_cv, clf_gbdt.predict_proba(X_cv)))\n",
        "    depth += 10"
      ],
      "execution_count": null,
      "outputs": []
    },
    {
      "cell_type": "code",
      "metadata": {
        "id": "9U367-xetAS7",
        "colab_type": "code",
        "colab": {
          "base_uri": "https://localhost:8080/",
          "height": 945
        },
        "outputId": "0e5669a0-ec15-4d5f-a3c9-9b1293b89535"
      },
      "source": [
        "import xgboost as xgb\n",
        "params = {}\n",
        "params['objective'] = 'binary:logistic'\n",
        "params['eval_metric'] = 'logloss'\n",
        "params['eta'] = 0.02\n",
        "params['max_depth'] = 4\n",
        "\n",
        "d_train = xgb.DMatrix(X_train, label=y_train)\n",
        "d_cv = xgb.DMatrix(X_cv, label=y_cv)\n",
        "\n",
        "watchlist = [(d_train, 'train'), (d_cv, 'valid')]\n",
        "\n",
        "bst = xgb.train(params, d_train, 400, watchlist, early_stopping_rounds=5, verbose_eval=10)\n",
        "\n",
        "xgdmat = xgb.DMatrix(X_train,y_train)\n",
        "predict_y = bst.predict(d_cv)\n"
      ],
      "execution_count": 13,
      "outputs": [
        {
          "output_type": "stream",
          "text": [
            "[0]\ttrain-logloss:0.690701\tvalid-logloss:0.691026\n",
            "Multiple eval metrics have been passed: 'valid-logloss' will be used for early stopping.\n",
            "\n",
            "Will train until valid-logloss hasn't improved in 5 rounds.\n",
            "[10]\ttrain-logloss:0.670336\tvalid-logloss:0.673632\n",
            "[20]\ttrain-logloss:0.654744\tvalid-logloss:0.660498\n",
            "[30]\ttrain-logloss:0.642213\tvalid-logloss:0.650349\n",
            "[40]\ttrain-logloss:0.631751\tvalid-logloss:0.642273\n",
            "[50]\ttrain-logloss:0.622955\tvalid-logloss:0.635785\n",
            "[60]\ttrain-logloss:0.614827\tvalid-logloss:0.630128\n",
            "[70]\ttrain-logloss:0.607764\tvalid-logloss:0.625155\n",
            "[80]\ttrain-logloss:0.601004\tvalid-logloss:0.620691\n",
            "[90]\ttrain-logloss:0.594948\tvalid-logloss:0.616815\n",
            "[100]\ttrain-logloss:0.58917\tvalid-logloss:0.613166\n",
            "[110]\ttrain-logloss:0.583914\tvalid-logloss:0.610056\n",
            "[120]\ttrain-logloss:0.578776\tvalid-logloss:0.607014\n",
            "[130]\ttrain-logloss:0.574108\tvalid-logloss:0.604402\n",
            "[140]\ttrain-logloss:0.5698\tvalid-logloss:0.60203\n",
            "[150]\ttrain-logloss:0.565689\tvalid-logloss:0.599951\n",
            "[160]\ttrain-logloss:0.561828\tvalid-logloss:0.597742\n",
            "[170]\ttrain-logloss:0.558074\tvalid-logloss:0.595864\n",
            "[180]\ttrain-logloss:0.554211\tvalid-logloss:0.593739\n",
            "[190]\ttrain-logloss:0.550505\tvalid-logloss:0.591827\n",
            "[200]\ttrain-logloss:0.547189\tvalid-logloss:0.590322\n",
            "[210]\ttrain-logloss:0.543601\tvalid-logloss:0.588767\n",
            "[220]\ttrain-logloss:0.540078\tvalid-logloss:0.587024\n",
            "[230]\ttrain-logloss:0.536887\tvalid-logloss:0.585513\n",
            "[240]\ttrain-logloss:0.533695\tvalid-logloss:0.584089\n",
            "[250]\ttrain-logloss:0.530655\tvalid-logloss:0.582712\n",
            "[260]\ttrain-logloss:0.5275\tvalid-logloss:0.581405\n",
            "[270]\ttrain-logloss:0.524721\tvalid-logloss:0.580246\n",
            "[280]\ttrain-logloss:0.521627\tvalid-logloss:0.578826\n",
            "[290]\ttrain-logloss:0.519244\tvalid-logloss:0.577835\n",
            "[300]\ttrain-logloss:0.516447\tvalid-logloss:0.576734\n",
            "[310]\ttrain-logloss:0.513905\tvalid-logloss:0.575535\n",
            "[320]\ttrain-logloss:0.511627\tvalid-logloss:0.574816\n",
            "[330]\ttrain-logloss:0.508851\tvalid-logloss:0.57372\n",
            "[340]\ttrain-logloss:0.506374\tvalid-logloss:0.572936\n",
            "[350]\ttrain-logloss:0.504076\tvalid-logloss:0.571992\n",
            "[360]\ttrain-logloss:0.501287\tvalid-logloss:0.571068\n",
            "[370]\ttrain-logloss:0.498718\tvalid-logloss:0.570377\n",
            "[380]\ttrain-logloss:0.496285\tvalid-logloss:0.56943\n",
            "[390]\ttrain-logloss:0.493753\tvalid-logloss:0.568548\n",
            "[399]\ttrain-logloss:0.491703\tvalid-logloss:0.56786\n"
          ],
          "name": "stdout"
        },
        {
          "output_type": "error",
          "ename": "NameError",
          "evalue": "ignored",
          "traceback": [
            "\u001b[0;31m---------------------------------------------------------------------------\u001b[0m",
            "\u001b[0;31mNameError\u001b[0m                                 Traceback (most recent call last)",
            "\u001b[0;32m<ipython-input-13-64eedfc62971>\u001b[0m in \u001b[0;36m<module>\u001b[0;34m()\u001b[0m\n\u001b[1;32m     15\u001b[0m \u001b[0mxgdmat\u001b[0m \u001b[0;34m=\u001b[0m \u001b[0mxgb\u001b[0m\u001b[0;34m.\u001b[0m\u001b[0mDMatrix\u001b[0m\u001b[0;34m(\u001b[0m\u001b[0mX_train\u001b[0m\u001b[0;34m,\u001b[0m\u001b[0my_train\u001b[0m\u001b[0;34m)\u001b[0m\u001b[0;34m\u001b[0m\u001b[0;34m\u001b[0m\u001b[0m\n\u001b[1;32m     16\u001b[0m \u001b[0mpredict_y\u001b[0m \u001b[0;34m=\u001b[0m \u001b[0mbst\u001b[0m\u001b[0;34m.\u001b[0m\u001b[0mpredict\u001b[0m\u001b[0;34m(\u001b[0m\u001b[0md_cv\u001b[0m\u001b[0;34m)\u001b[0m\u001b[0;34m\u001b[0m\u001b[0;34m\u001b[0m\u001b[0m\n\u001b[0;32m---> 17\u001b[0;31m \u001b[0mprint\u001b[0m\u001b[0;34m(\u001b[0m\u001b[0;34m\"The test log loss is:\"\u001b[0m\u001b[0;34m,\u001b[0m\u001b[0mlog_loss\u001b[0m\u001b[0;34m(\u001b[0m\u001b[0my_test\u001b[0m\u001b[0;34m,\u001b[0m \u001b[0mpredict_y\u001b[0m\u001b[0;34m,\u001b[0m \u001b[0mlabels\u001b[0m\u001b[0;34m=\u001b[0m\u001b[0mclf\u001b[0m\u001b[0;34m.\u001b[0m\u001b[0mclasses_\u001b[0m\u001b[0;34m,\u001b[0m \u001b[0meps\u001b[0m\u001b[0;34m=\u001b[0m\u001b[0;36m1e-15\u001b[0m\u001b[0;34m)\u001b[0m\u001b[0;34m)\u001b[0m\u001b[0;34m\u001b[0m\u001b[0;34m\u001b[0m\u001b[0m\n\u001b[0m",
            "\u001b[0;31mNameError\u001b[0m: name 'y_test' is not defined"
          ]
        }
      ]
    },
    {
      "cell_type": "code",
      "metadata": {
        "id": "qLC75MoA6Yit",
        "colab_type": "code",
        "colab": {
          "base_uri": "https://localhost:8080/",
          "height": 34
        },
        "outputId": "d31dc1ff-8d86-40ec-c1f5-ffade3a66961"
      },
      "source": [
        "print(\"The test log loss is:\",log_loss(y_cv, predict_y))"
      ],
      "execution_count": 15,
      "outputs": [
        {
          "output_type": "stream",
          "text": [
            "The test log loss is: 0.5678603621795774\n"
          ],
          "name": "stdout"
        }
      ]
    },
    {
      "cell_type": "code",
      "metadata": {
        "id": "FH7I7sjB6qXt",
        "colab_type": "code",
        "colab": {
          "base_uri": "https://localhost:8080/",
          "height": 282
        },
        "outputId": "ad5101fc-c5ec-43a7-fe59-f000be4f56a7"
      },
      "source": [
        "_confusion_matrix_heatmap(y_cv, n(predict_y>0.5))"
      ],
      "execution_count": 19,
      "outputs": [
        {
          "output_type": "execute_result",
          "data": {
            "text/plain": [
              "<matplotlib.axes._subplots.AxesSubplot at 0x7fbf64d32080>"
            ]
          },
          "metadata": {
            "tags": []
          },
          "execution_count": 19
        },
        {
          "output_type": "display_data",
          "data": {
            "image/png": "[encoded data removed]",
            "text/plain": [
              "<Figure size 432x288 with 2 Axes>"
            ]
          },
          "metadata": {
            "tags": [],
            "needs_background": "light"
          }
        }
      ]
    }
  ]
}