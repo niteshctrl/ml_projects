{
  "nbformat": 4,
  "nbformat_minor": 0,
  "metadata": {
    "colab": {
      "name": "StackOverflow Tags Prediction",
      "provenance": [],
      "collapsed_sections": [],
      "toc_visible": true,
      "machine_shape": "hm",
      "include_colab_link": true
    },
    "kernelspec": {
      "name": "python3",
      "display_name": "Python 3"
    },
    "widgets": {
      "application/vnd.jupyter.widget-state+json": {
        "b3863a3741c6410f934285890eae5b96": {
          "model_module": "@jupyter-widgets/controls",
          "model_name": "HBoxModel",
          "state": {
            "_view_name": "HBoxView",
            "_dom_classes": [],
            "_model_name": "HBoxModel",
            "_view_module": "@jupyter-widgets/controls",
            "_model_module_version": "1.5.0",
            "_view_count": null,
            "_view_module_version": "1.5.0",
            "box_style": "",
            "layout": "IPY_MODEL_4019c04b36274280ae468caf27513d95",
            "_model_module": "@jupyter-widgets/controls",
            "children": [
              "IPY_MODEL_779bdd58c2554c44adef8fb9231a2714",
              "IPY_MODEL_5d1853c23c5b4667b8e3bf35987b7a95"
            ]
          }
        },
        "4019c04b36274280ae468caf27513d95": {
          "model_module": "@jupyter-widgets/base",
          "model_name": "LayoutModel",
          "state": {
            "_view_name": "LayoutView",
            "grid_template_rows": null,
            "right": null,
            "justify_content": null,
            "_view_module": "@jupyter-widgets/base",
            "overflow": null,
            "_model_module_version": "1.2.0",
            "_view_count": null,
            "flex_flow": null,
            "width": null,
            "min_width": null,
            "border": null,
            "align_items": null,
            "bottom": null,
            "_model_module": "@jupyter-widgets/base",
            "top": null,
            "grid_column": null,
            "overflow_y": null,
            "overflow_x": null,
            "grid_auto_flow": null,
            "grid_area": null,
            "grid_template_columns": null,
            "flex": null,
            "_model_name": "LayoutModel",
            "justify_items": null,
            "grid_row": null,
            "max_height": null,
            "align_content": null,
            "visibility": null,
            "align_self": null,
            "height": null,
            "min_height": null,
            "padding": null,
            "grid_auto_rows": null,
            "grid_gap": null,
            "max_width": null,
            "order": null,
            "_view_module_version": "1.2.0",
            "grid_template_areas": null,
            "object_position": null,
            "object_fit": null,
            "grid_auto_columns": null,
            "margin": null,
            "display": null,
            "left": null
          }
        },
        "779bdd58c2554c44adef8fb9231a2714": {
          "model_module": "@jupyter-widgets/controls",
          "model_name": "FloatProgressModel",
          "state": {
            "_view_name": "ProgressView",
            "style": "IPY_MODEL_951c8680ca40431b93aa154ccf884197",
            "_dom_classes": [],
            "description": "100%",
            "_model_name": "FloatProgressModel",
            "bar_style": "success",
            "max": 4206307,
            "_view_module": "@jupyter-widgets/controls",
            "_model_module_version": "1.5.0",
            "value": 4206307,
            "_view_count": null,
            "_view_module_version": "1.5.0",
            "orientation": "horizontal",
            "min": 0,
            "description_tooltip": null,
            "_model_module": "@jupyter-widgets/controls",
            "layout": "IPY_MODEL_eb1334b64bad4efca69d255797297ce0"
          }
        },
        "5d1853c23c5b4667b8e3bf35987b7a95": {
          "model_module": "@jupyter-widgets/controls",
          "model_name": "HTMLModel",
          "state": {
            "_view_name": "HTMLView",
            "style": "IPY_MODEL_64699655732045ae972d22769b118426",
            "_dom_classes": [],
            "description": "",
            "_model_name": "HTMLModel",
            "placeholder": "​",
            "_view_module": "@jupyter-widgets/controls",
            "_model_module_version": "1.5.0",
            "value": " 4206307/4206307 [00:53&lt;00:00, 79196.62it/s]",
            "_view_count": null,
            "_view_module_version": "1.5.0",
            "description_tooltip": null,
            "_model_module": "@jupyter-widgets/controls",
            "layout": "IPY_MODEL_185531494c1640f3b013bf04394b5f46"
          }
        },
        "951c8680ca40431b93aa154ccf884197": {
          "model_module": "@jupyter-widgets/controls",
          "model_name": "ProgressStyleModel",
          "state": {
            "_view_name": "StyleView",
            "_model_name": "ProgressStyleModel",
            "description_width": "initial",
            "_view_module": "@jupyter-widgets/base",
            "_model_module_version": "1.5.0",
            "_view_count": null,
            "_view_module_version": "1.2.0",
            "bar_color": null,
            "_model_module": "@jupyter-widgets/controls"
          }
        },
        "eb1334b64bad4efca69d255797297ce0": {
          "model_module": "@jupyter-widgets/base",
          "model_name": "LayoutModel",
          "state": {
            "_view_name": "LayoutView",
            "grid_template_rows": null,
            "right": null,
            "justify_content": null,
            "_view_module": "@jupyter-widgets/base",
            "overflow": null,
            "_model_module_version": "1.2.0",
            "_view_count": null,
            "flex_flow": null,
            "width": null,
            "min_width": null,
            "border": null,
            "align_items": null,
            "bottom": null,
            "_model_module": "@jupyter-widgets/base",
            "top": null,
            "grid_column": null,
            "overflow_y": null,
            "overflow_x": null,
            "grid_auto_flow": null,
            "grid_area": null,
            "grid_template_columns": null,
            "flex": null,
            "_model_name": "LayoutModel",
            "justify_items": null,
            "grid_row": null,
            "max_height": null,
            "align_content": null,
            "visibility": null,
            "align_self": null,
            "height": null,
            "min_height": null,
            "padding": null,
            "grid_auto_rows": null,
            "grid_gap": null,
            "max_width": null,
            "order": null,
            "_view_module_version": "1.2.0",
            "grid_template_areas": null,
            "object_position": null,
            "object_fit": null,
            "grid_auto_columns": null,
            "margin": null,
            "display": null,
            "left": null
          }
        },
        "64699655732045ae972d22769b118426": {
          "model_module": "@jupyter-widgets/controls",
          "model_name": "DescriptionStyleModel",
          "state": {
            "_view_name": "StyleView",
            "_model_name": "DescriptionStyleModel",
            "description_width": "",
            "_view_module": "@jupyter-widgets/base",
            "_model_module_version": "1.5.0",
            "_view_count": null,
            "_view_module_version": "1.2.0",
            "_model_module": "@jupyter-widgets/controls"
          }
        },
        "185531494c1640f3b013bf04394b5f46": {
          "model_module": "@jupyter-widgets/base",
          "model_name": "LayoutModel",
          "state": {
            "_view_name": "LayoutView",
            "grid_template_rows": null,
            "right": null,
            "justify_content": null,
            "_view_module": "@jupyter-widgets/base",
            "overflow": null,
            "_model_module_version": "1.2.0",
            "_view_count": null,
            "flex_flow": null,
            "width": null,
            "min_width": null,
            "border": null,
            "align_items": null,
            "bottom": null,
            "_model_module": "@jupyter-widgets/base",
            "top": null,
            "grid_column": null,
            "overflow_y": null,
            "overflow_x": null,
            "grid_auto_flow": null,
            "grid_area": null,
            "grid_template_columns": null,
            "flex": null,
            "_model_name": "LayoutModel",
            "justify_items": null,
            "grid_row": null,
            "max_height": null,
            "align_content": null,
            "visibility": null,
            "align_self": null,
            "height": null,
            "min_height": null,
            "padding": null,
            "grid_auto_rows": null,
            "grid_gap": null,
            "max_width": null,
            "order": null,
            "_view_module_version": "1.2.0",
            "grid_template_areas": null,
            "object_position": null,
            "object_fit": null,
            "grid_auto_columns": null,
            "margin": null,
            "display": null,
            "left": null
          }
        },
        "124984cc8e5d469d9fd3bc4b4e432b64": {
          "model_module": "@jupyter-widgets/controls",
          "model_name": "HBoxModel",
          "state": {
            "_view_name": "HBoxView",
            "_dom_classes": [],
            "_model_name": "HBoxModel",
            "_view_module": "@jupyter-widgets/controls",
            "_model_module_version": "1.5.0",
            "_view_count": null,
            "_view_module_version": "1.5.0",
            "box_style": "",
            "layout": "IPY_MODEL_75a26fbbc0c34390b925ddeef5156b03",
            "_model_module": "@jupyter-widgets/controls",
            "children": [
              "IPY_MODEL_6cd86755a7744f9b9c170320825ed927",
              "IPY_MODEL_2229917f3ca54fa28eb42418ecd9b7c3"
            ]
          }
        },
        "75a26fbbc0c34390b925ddeef5156b03": {
          "model_module": "@jupyter-widgets/base",
          "model_name": "LayoutModel",
          "state": {
            "_view_name": "LayoutView",
            "grid_template_rows": null,
            "right": null,
            "justify_content": null,
            "_view_module": "@jupyter-widgets/base",
            "overflow": null,
            "_model_module_version": "1.2.0",
            "_view_count": null,
            "flex_flow": null,
            "width": null,
            "min_width": null,
            "border": null,
            "align_items": null,
            "bottom": null,
            "_model_module": "@jupyter-widgets/base",
            "top": null,
            "grid_column": null,
            "overflow_y": null,
            "overflow_x": null,
            "grid_auto_flow": null,
            "grid_area": null,
            "grid_template_columns": null,
            "flex": null,
            "_model_name": "LayoutModel",
            "justify_items": null,
            "grid_row": null,
            "max_height": null,
            "align_content": null,
            "visibility": null,
            "align_self": null,
            "height": null,
            "min_height": null,
            "padding": null,
            "grid_auto_rows": null,
            "grid_gap": null,
            "max_width": null,
            "order": null,
            "_view_module_version": "1.2.0",
            "grid_template_areas": null,
            "object_position": null,
            "object_fit": null,
            "grid_auto_columns": null,
            "margin": null,
            "display": null,
            "left": null
          }
        },
        "6cd86755a7744f9b9c170320825ed927": {
          "model_module": "@jupyter-widgets/controls",
          "model_name": "FloatProgressModel",
          "state": {
            "_view_name": "ProgressView",
            "style": "IPY_MODEL_89bcd129f37b4802be0bea36eb71fd75",
            "_dom_classes": [],
            "description": "100%",
            "_model_name": "FloatProgressModel",
            "bar_style": "success",
            "max": 4206307,
            "_view_module": "@jupyter-widgets/controls",
            "_model_module_version": "1.5.0",
            "value": 4206307,
            "_view_count": null,
            "_view_module_version": "1.5.0",
            "orientation": "horizontal",
            "min": 0,
            "description_tooltip": null,
            "_model_module": "@jupyter-widgets/controls",
            "layout": "IPY_MODEL_f26c5562a1c54effa37525ee638c4360"
          }
        },
        "2229917f3ca54fa28eb42418ecd9b7c3": {
          "model_module": "@jupyter-widgets/controls",
          "model_name": "HTMLModel",
          "state": {
            "_view_name": "HTMLView",
            "style": "IPY_MODEL_d2d6ea40a7624a5ca7f4a6ad661d875d",
            "_dom_classes": [],
            "description": "",
            "_model_name": "HTMLModel",
            "placeholder": "​",
            "_view_module": "@jupyter-widgets/controls",
            "_model_module_version": "1.5.0",
            "value": " 4206307/4206307 [00:54&lt;00:00, 77769.70it/s]",
            "_view_count": null,
            "_view_module_version": "1.5.0",
            "description_tooltip": null,
            "_model_module": "@jupyter-widgets/controls",
            "layout": "IPY_MODEL_0aa7211b4d924c63b6ddac9d8fb6a3f1"
          }
        },
        "89bcd129f37b4802be0bea36eb71fd75": {
          "model_module": "@jupyter-widgets/controls",
          "model_name": "ProgressStyleModel",
          "state": {
            "_view_name": "StyleView",
            "_model_name": "ProgressStyleModel",
            "description_width": "initial",
            "_view_module": "@jupyter-widgets/base",
            "_model_module_version": "1.5.0",
            "_view_count": null,
            "_view_module_version": "1.2.0",
            "bar_color": null,
            "_model_module": "@jupyter-widgets/controls"
          }
        },
        "f26c5562a1c54effa37525ee638c4360": {
          "model_module": "@jupyter-widgets/base",
          "model_name": "LayoutModel",
          "state": {
            "_view_name": "LayoutView",
            "grid_template_rows": null,
            "right": null,
            "justify_content": null,
            "_view_module": "@jupyter-widgets/base",
            "overflow": null,
            "_model_module_version": "1.2.0",
            "_view_count": null,
            "flex_flow": null,
            "width": null,
            "min_width": null,
            "border": null,
            "align_items": null,
            "bottom": null,
            "_model_module": "@jupyter-widgets/base",
            "top": null,
            "grid_column": null,
            "overflow_y": null,
            "overflow_x": null,
            "grid_auto_flow": null,
            "grid_area": null,
            "grid_template_columns": null,
            "flex": null,
            "_model_name": "LayoutModel",
            "justify_items": null,
            "grid_row": null,
            "max_height": null,
            "align_content": null,
            "visibility": null,
            "align_self": null,
            "height": null,
            "min_height": null,
            "padding": null,
            "grid_auto_rows": null,
            "grid_gap": null,
            "max_width": null,
            "order": null,
            "_view_module_version": "1.2.0",
            "grid_template_areas": null,
            "object_position": null,
            "object_fit": null,
            "grid_auto_columns": null,
            "margin": null,
            "display": null,
            "left": null
          }
        },
        "d2d6ea40a7624a5ca7f4a6ad661d875d": {
          "model_module": "@jupyter-widgets/controls",
          "model_name": "DescriptionStyleModel",
          "state": {
            "_view_name": "StyleView",
            "_model_name": "DescriptionStyleModel",
            "description_width": "",
            "_view_module": "@jupyter-widgets/base",
            "_model_module_version": "1.5.0",
            "_view_count": null,
            "_view_module_version": "1.2.0",
            "_model_module": "@jupyter-widgets/controls"
          }
        },
        "0aa7211b4d924c63b6ddac9d8fb6a3f1": {
          "model_module": "@jupyter-widgets/base",
          "model_name": "LayoutModel",
          "state": {
            "_view_name": "LayoutView",
            "grid_template_rows": null,
            "right": null,
            "justify_content": null,
            "_view_module": "@jupyter-widgets/base",
            "overflow": null,
            "_model_module_version": "1.2.0",
            "_view_count": null,
            "flex_flow": null,
            "width": null,
            "min_width": null,
            "border": null,
            "align_items": null,
            "bottom": null,
            "_model_module": "@jupyter-widgets/base",
            "top": null,
            "grid_column": null,
            "overflow_y": null,
            "overflow_x": null,
            "grid_auto_flow": null,
            "grid_area": null,
            "grid_template_columns": null,
            "flex": null,
            "_model_name": "LayoutModel",
            "justify_items": null,
            "grid_row": null,
            "max_height": null,
            "align_content": null,
            "visibility": null,
            "align_self": null,
            "height": null,
            "min_height": null,
            "padding": null,
            "grid_auto_rows": null,
            "grid_gap": null,
            "max_width": null,
            "order": null,
            "_view_module_version": "1.2.0",
            "grid_template_areas": null,
            "object_position": null,
            "object_fit": null,
            "grid_auto_columns": null,
            "margin": null,
            "display": null,
            "left": null
          }
        },
        "63c16baa29d14a199324958cddbb743d": {
          "model_module": "@jupyter-widgets/controls",
          "model_name": "HBoxModel",
          "state": {
            "_view_name": "HBoxView",
            "_dom_classes": [],
            "_model_name": "HBoxModel",
            "_view_module": "@jupyter-widgets/controls",
            "_model_module_version": "1.5.0",
            "_view_count": null,
            "_view_module_version": "1.5.0",
            "box_style": "",
            "layout": "IPY_MODEL_aa66ab4b7f63461193690499e7baa3e6",
            "_model_module": "@jupyter-widgets/controls",
            "children": [
              "IPY_MODEL_3f594619d292403eac9d549019b70632",
              "IPY_MODEL_eddbdf5e0f4a4fb0b5fd504303cd3aca"
            ]
          }
        },
        "aa66ab4b7f63461193690499e7baa3e6": {
          "model_module": "@jupyter-widgets/base",
          "model_name": "LayoutModel",
          "state": {
            "_view_name": "LayoutView",
            "grid_template_rows": null,
            "right": null,
            "justify_content": null,
            "_view_module": "@jupyter-widgets/base",
            "overflow": null,
            "_model_module_version": "1.2.0",
            "_view_count": null,
            "flex_flow": null,
            "width": null,
            "min_width": null,
            "border": null,
            "align_items": null,
            "bottom": null,
            "_model_module": "@jupyter-widgets/base",
            "top": null,
            "grid_column": null,
            "overflow_y": null,
            "overflow_x": null,
            "grid_auto_flow": null,
            "grid_area": null,
            "grid_template_columns": null,
            "flex": null,
            "_model_name": "LayoutModel",
            "justify_items": null,
            "grid_row": null,
            "max_height": null,
            "align_content": null,
            "visibility": null,
            "align_self": null,
            "height": null,
            "min_height": null,
            "padding": null,
            "grid_auto_rows": null,
            "grid_gap": null,
            "max_width": null,
            "order": null,
            "_view_module_version": "1.2.0",
            "grid_template_areas": null,
            "object_position": null,
            "object_fit": null,
            "grid_auto_columns": null,
            "margin": null,
            "display": null,
            "left": null
          }
        },
        "3f594619d292403eac9d549019b70632": {
          "model_module": "@jupyter-widgets/controls",
          "model_name": "FloatProgressModel",
          "state": {
            "_view_name": "ProgressView",
            "style": "IPY_MODEL_3e21378123b54ecea2657c66f2ca30b4",
            "_dom_classes": [],
            "description": "100%",
            "_model_name": "FloatProgressModel",
            "bar_style": "success",
            "max": 4206314,
            "_view_module": "@jupyter-widgets/controls",
            "_model_module_version": "1.5.0",
            "value": 4206314,
            "_view_count": null,
            "_view_module_version": "1.5.0",
            "orientation": "horizontal",
            "min": 0,
            "description_tooltip": null,
            "_model_module": "@jupyter-widgets/controls",
            "layout": "IPY_MODEL_71f58aedf9214fdb890931236aba14bf"
          }
        },
        "eddbdf5e0f4a4fb0b5fd504303cd3aca": {
          "model_module": "@jupyter-widgets/controls",
          "model_name": "HTMLModel",
          "state": {
            "_view_name": "HTMLView",
            "style": "IPY_MODEL_e6a20cf49f754d92bb156a94268db1ab",
            "_dom_classes": [],
            "description": "",
            "_model_name": "HTMLModel",
            "placeholder": "​",
            "_view_module": "@jupyter-widgets/controls",
            "_model_module_version": "1.5.0",
            "value": " 4206314/4206314 [22:15&lt;00:00, 3148.88it/s]",
            "_view_count": null,
            "_view_module_version": "1.5.0",
            "description_tooltip": null,
            "_model_module": "@jupyter-widgets/controls",
            "layout": "IPY_MODEL_94fd516f41764e8ba0f1e4788778b07c"
          }
        },
        "3e21378123b54ecea2657c66f2ca30b4": {
          "model_module": "@jupyter-widgets/controls",
          "model_name": "ProgressStyleModel",
          "state": {
            "_view_name": "StyleView",
            "_model_name": "ProgressStyleModel",
            "description_width": "initial",
            "_view_module": "@jupyter-widgets/base",
            "_model_module_version": "1.5.0",
            "_view_count": null,
            "_view_module_version": "1.2.0",
            "bar_color": null,
            "_model_module": "@jupyter-widgets/controls"
          }
        },
        "71f58aedf9214fdb890931236aba14bf": {
          "model_module": "@jupyter-widgets/base",
          "model_name": "LayoutModel",
          "state": {
            "_view_name": "LayoutView",
            "grid_template_rows": null,
            "right": null,
            "justify_content": null,
            "_view_module": "@jupyter-widgets/base",
            "overflow": null,
            "_model_module_version": "1.2.0",
            "_view_count": null,
            "flex_flow": null,
            "width": null,
            "min_width": null,
            "border": null,
            "align_items": null,
            "bottom": null,
            "_model_module": "@jupyter-widgets/base",
            "top": null,
            "grid_column": null,
            "overflow_y": null,
            "overflow_x": null,
            "grid_auto_flow": null,
            "grid_area": null,
            "grid_template_columns": null,
            "flex": null,
            "_model_name": "LayoutModel",
            "justify_items": null,
            "grid_row": null,
            "max_height": null,
            "align_content": null,
            "visibility": null,
            "align_self": null,
            "height": null,
            "min_height": null,
            "padding": null,
            "grid_auto_rows": null,
            "grid_gap": null,
            "max_width": null,
            "order": null,
            "_view_module_version": "1.2.0",
            "grid_template_areas": null,
            "object_position": null,
            "object_fit": null,
            "grid_auto_columns": null,
            "margin": null,
            "display": null,
            "left": null
          }
        },
        "e6a20cf49f754d92bb156a94268db1ab": {
          "model_module": "@jupyter-widgets/controls",
          "model_name": "DescriptionStyleModel",
          "state": {
            "_view_name": "StyleView",
            "_model_name": "DescriptionStyleModel",
            "description_width": "",
            "_view_module": "@jupyter-widgets/base",
            "_model_module_version": "1.5.0",
            "_view_count": null,
            "_view_module_version": "1.2.0",
            "_model_module": "@jupyter-widgets/controls"
          }
        },
        "94fd516f41764e8ba0f1e4788778b07c": {
          "model_module": "@jupyter-widgets/base",
          "model_name": "LayoutModel",
          "state": {
            "_view_name": "LayoutView",
            "grid_template_rows": null,
            "right": null,
            "justify_content": null,
            "_view_module": "@jupyter-widgets/base",
            "overflow": null,
            "_model_module_version": "1.2.0",
            "_view_count": null,
            "flex_flow": null,
            "width": null,
            "min_width": null,
            "border": null,
            "align_items": null,
            "bottom": null,
            "_model_module": "@jupyter-widgets/base",
            "top": null,
            "grid_column": null,
            "overflow_y": null,
            "overflow_x": null,
            "grid_auto_flow": null,
            "grid_area": null,
            "grid_template_columns": null,
            "flex": null,
            "_model_name": "LayoutModel",
            "justify_items": null,
            "grid_row": null,
            "max_height": null,
            "align_content": null,
            "visibility": null,
            "align_self": null,
            "height": null,
            "min_height": null,
            "padding": null,
            "grid_auto_rows": null,
            "grid_gap": null,
            "max_width": null,
            "order": null,
            "_view_module_version": "1.2.0",
            "grid_template_areas": null,
            "object_position": null,
            "object_fit": null,
            "grid_auto_columns": null,
            "margin": null,
            "display": null,
            "left": null
          }
        }
      }
    }
  },
  "cells": [
    {
      "cell_type": "markdown",
      "metadata": {
        "id": "view-in-github",
        "colab_type": "text"
      },
      "source": [
        "<a href=\"https://colab.research.google.com/github/niteshctrl/ml_projects/blob/master/StackOverflow_Tags_Prediction.ipynb\" target=\"_parent\"><img src=\"https://colab.research.google.com/assets/colab-badge.svg\" alt=\"Open In Colab\"/></a>"
      ]
    },
    {
      "cell_type": "markdown",
      "metadata": {
        "id": "7Nvulsc9-sfU",
        "colab_type": "text"
      },
      "source": [
        "![0_UEtwA2ask7vQYW06.png](data:image/png;base64,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)\n",
        "Image Credit: www.stackoverflow.com"
      ]
    },
    {
      "cell_type": "markdown",
      "metadata": {
        "id": "P_dhzr6r8ctf",
        "colab_type": "text"
      },
      "source": [
        "# Table of Contents\n",
        "\n",
        "1. [**Data Set Up**](#1-Data-Set-Up)\n",
        "2. [**Data Cleaning - I**](#1-Data-Cleaning-I)"
      ]
    },
    {
      "cell_type": "markdown",
      "metadata": {
        "id": "p_v2jJAc5mQn",
        "colab_type": "text"
      },
      "source": [
        "# 0 Introduction\n",
        "\n",
        "### `Task:`\n",
        "Predict the tags (a.k.a. keywords, topics, summaries), given only the question text and its title. The dataset contains content from disparate stack exchange sites, containing a mix of both technical and non-technical questions.\n",
        "\n",
        "### `Evaluation Metric:`\n",
        "The evaluation metric for this project is Mean F1-Score.  The F1 score, commonly used in information retrieval, measures accuracy using the statistics precision P and recall R. Precision is the ratio of true positives (TP) to all predicted positives (TP + FP). Recall is the ratio of true positives to all actual positives (TP + FN). The F1 score is given by:\n",
        "\n",
        "> F1=2PR / (P + R)\n",
        "\n",
        "The F1 metric weights recall and precision equally, and a good retrieval algorithm will maximize both precision and recall simultaneously. Thus, moderately good performance on both will be favored over extremely good performance on one and poor performance on the other.\n",
        "\n",
        "The tag predicted must be an exact match, regardless of whether the tags are synonyms. \n",
        "\n",
        "* **Why aren't synonyms counted?**\n",
        "\n",
        "1. Giving out a list of candidate synonyms is a potential source of leakage\n",
        "2. Synonyms are subjective, and there are \"subjectively many\" synonyms for a given tag\n",
        "3. Equally penalized for predicting a synonym of a correct tag, so the task can be framed as not only predicting a tag, but also modeling the distribution(s) of potential synonyms\n",
        "\n",
        "## Data Description:\n",
        "Train.csv contains 4 columns: Id,Title,Body,Tags\n",
        "\n",
        "1. Id - Unique identifier for each question\n",
        "2. Title - The question's title\n",
        "3. Body - The body of the question\n",
        "4. Tags - The tags associated with the question (all lowercase, should not contain tabs '\\t' or ampersands '&')\n",
        "---\n",
        "\n",
        "Ref : https://medium.com/datadriveninvestor/predicting-tags-for-the-questions-in-stack-overflow-29438367261e"
      ]
    },
    {
      "cell_type": "markdown",
      "metadata": {
        "id": "Nv2lXY5f_mxu",
        "colab_type": "text"
      },
      "source": [
        "<a id='data'></a>\n",
        "# 1 Data Set Up"
      ]
    },
    {
      "cell_type": "code",
      "metadata": {
        "id": "_HLom6kI9hph",
        "colab_type": "code",
        "colab": {
          "base_uri": "https://localhost:8080/",
          "height": 122
        },
        "outputId": "b1bed573-7328-4c0b-fdfd-e396ae52ddc3"
      },
      "source": [
        "# Connecting Google Drive\n",
        "\n",
        "from google.colab import drive\n",
        "drive.mount('/content/gdrive/')"
      ],
      "execution_count": 1,
      "outputs": [
        {
          "output_type": "stream",
          "text": [
            "Go to this URL in a browser: https://accounts.google.com/o/oauth2/auth?client_id=947318989803-6bn6qk8qdgf4n4g3pfee6491hc0brc4i.apps.googleusercontent.com&redirect_uri=urn%3aietf%3awg%3aoauth%3a2.0%3aoob&scope=email%20https%3a%2f%2fwww.googleapis.com%2fauth%2fdocs.test%20https%3a%2f%2fwww.googleapis.com%2fauth%2fdrive%20https%3a%2f%2fwww.googleapis.com%2fauth%2fdrive.photos.readonly%20https%3a%2f%2fwww.googleapis.com%2fauth%2fpeopleapi.readonly&response_type=code\n",
            "\n",
            "Enter your authorization code:\n",
            "4/3wFkPyw-2FuEv42KTyeTq1igAd4-pyp6axwEWuovcpe-HmbZ5T-w6bw\n",
            "Mounted at /content/gdrive/\n"
          ],
          "name": "stdout"
        }
      ]
    },
    {
      "cell_type": "code",
      "metadata": {
        "id": "sVino2wpSevs",
        "colab_type": "code",
        "colab": {
          "base_uri": "https://localhost:8080/",
          "height": 326
        },
        "outputId": "ce7fe686-c28d-4857-ed21-4e759d3099e0"
      },
      "source": [
        "# Installing library for expanding contractions during Preprocessing\n",
        "\n",
        "!pip install contractions"
      ],
      "execution_count": 2,
      "outputs": [
        {
          "output_type": "stream",
          "text": [
            "Collecting contractions\n",
            "  Downloading https://files.pythonhosted.org/packages/00/92/a05b76a692ac08d470ae5c23873cf1c9a041532f1ee065e74b374f218306/contractions-0.0.25-py2.py3-none-any.whl\n",
            "Collecting textsearch\n",
            "  Downloading https://files.pythonhosted.org/packages/42/a8/03407021f9555043de5492a2bd7a35c56cc03c2510092b5ec018cae1bbf1/textsearch-0.0.17-py2.py3-none-any.whl\n",
            "Collecting Unidecode\n",
            "\u001b[?25l  Downloading https://files.pythonhosted.org/packages/d0/42/d9edfed04228bacea2d824904cae367ee9efd05e6cce7ceaaedd0b0ad964/Unidecode-1.1.1-py2.py3-none-any.whl (238kB)\n",
            "\u001b[K     |████████████████████████████████| 245kB 3.7MB/s \n",
            "\u001b[?25hCollecting pyahocorasick\n",
            "\u001b[?25l  Downloading https://files.pythonhosted.org/packages/f4/9f/f0d8e8850e12829eea2e778f1c90e3c53a9a799b7f412082a5d21cd19ae1/pyahocorasick-1.4.0.tar.gz (312kB)\n",
            "\u001b[K     |████████████████████████████████| 317kB 8.2MB/s \n",
            "\u001b[?25hBuilding wheels for collected packages: pyahocorasick\n",
            "  Building wheel for pyahocorasick (setup.py) ... \u001b[?25l\u001b[?25hdone\n",
            "  Created wheel for pyahocorasick: filename=pyahocorasick-1.4.0-cp36-cp36m-linux_x86_64.whl size=81701 sha256=f72149ebfb820b8f92cf215d58aaa8c0afa863ec316d66bd6ff0d7e0d1de54a1\n",
            "  Stored in directory: /root/.cache/pip/wheels/0a/90/61/87a55f5b459792fbb2b7ba6b31721b06ff5cf6bde541b40994\n",
            "Successfully built pyahocorasick\n",
            "Installing collected packages: Unidecode, pyahocorasick, textsearch, contractions\n",
            "Successfully installed Unidecode-1.1.1 contractions-0.0.25 pyahocorasick-1.4.0 textsearch-0.0.17\n"
          ],
          "name": "stdout"
        }
      ]
    },
    {
      "cell_type": "code",
      "metadata": {
        "id": "PzhGZhkQ7YWM",
        "colab_type": "code",
        "colab": {}
      },
      "source": [
        "# Importing Libraries\n",
        "\n",
        "import sqlite3\n",
        "import numpy as np\n",
        "import pandas as pd\n",
        "import seaborn as sns\n",
        "from tqdm.notebook import tqdm\n",
        "from wordcloud import WordCloud\n",
        "import matplotlib.pyplot as plt\n",
        "\n",
        "# Preprocessing Libraries\n",
        "import re\n",
        "import nltk\n",
        "import contractions                     # Use pycontractions in future uses\n",
        "from nltk.corpus import stopwords\n",
        "from nltk.stem import SnowballStemmer\n",
        "from nltk.tokenize import word_tokenize\n",
        "\n",
        "# Featurization Libraries\n",
        "from sklearn.model_selection import train_test_split\n",
        "from sklearn.feature_extraction.text import CountVectorizer\n",
        "from sklearn.feature_extraction.text import TfidfVectorizer\n",
        "\n",
        "# Modeling Libraries\n",
        "from sklearn.linear_model import SGDClassifier\n",
        "from sklearn.multiclass import OneVsRestClassifier\n",
        "\n",
        "# Metrics Libraries\n",
        "from sklearn.metrics import log_loss\n",
        "from sklearn.metrics import f1_score\n",
        "from sklearn.metrics import accuracy_score\n"
      ],
      "execution_count": 18,
      "outputs": []
    },
    {
      "cell_type": "code",
      "metadata": {
        "id": "ryubiyuhdLE6",
        "colab_type": "code",
        "colab": {
          "base_uri": "https://localhost:8080/",
          "height": 102
        },
        "outputId": "a8edf571-3b6c-4306-fedf-7a4ec0f8178c"
      },
      "source": [
        "# Downloading Required NLTK data\n",
        "\n",
        "nltk.download('punkt')          # For Tokenization\n",
        "nltk.download('stopwords')      # Set of Stopwords"
      ],
      "execution_count": 4,
      "outputs": [
        {
          "output_type": "stream",
          "text": [
            "[nltk_data] Downloading package punkt to /root/nltk_data...\n",
            "[nltk_data]   Unzipping tokenizers/punkt.zip.\n",
            "[nltk_data] Downloading package stopwords to /root/nltk_data...\n",
            "[nltk_data]   Unzipping corpora/stopwords.zip.\n"
          ],
          "name": "stdout"
        },
        {
          "output_type": "execute_result",
          "data": {
            "text/plain": [
              "True"
            ]
          },
          "metadata": {
            "tags": []
          },
          "execution_count": 4
        }
      ]
    },
    {
      "cell_type": "code",
      "metadata": {
        "id": "NdTtgSWgRKwP",
        "colab_type": "code",
        "colab": {}
      },
      "source": [
        "pd.set_option('display.max_colwidth', 100)"
      ],
      "execution_count": 5,
      "outputs": []
    },
    {
      "cell_type": "code",
      "metadata": {
        "id": "7utmOEgv_p2v",
        "colab_type": "code",
        "colab": {
          "base_uri": "https://localhost:8080/",
          "height": 52
        },
        "outputId": "a4239137-fc83-423f-cfa4-fcf6b6d52568"
      },
      "source": [
        "# Extracting the ZIP data files in Google Drive\n",
        "\"\"\"\n",
        "!unzip /content/gdrive/My\\ Drive/datasets/stacko/Train.zip -d /content/gdrive/My\\ Drive/datasets/stacko/\n",
        "!unzip /content/gdrive/My\\ Drive/datasets/stacko/Test.zip -d /content/gdrive/My\\ Drive/datasets/stacko\"\"\""
      ],
      "execution_count": 6,
      "outputs": [
        {
          "output_type": "execute_result",
          "data": {
            "application/vnd.google.colaboratory.intrinsic+json": {
              "type": "string"
            },
            "text/plain": [
              "'\\n!unzip /content/gdrive/My\\\\ Drive/datasets/stacko/Train.zip -d /content/gdrive/My\\\\ Drive/datasets/stacko/\\n!unzip /content/gdrive/My\\\\ Drive/datasets/stacko/Test.zip -d /content/gdrive/My\\\\ Drive/datasets/stacko'"
            ]
          },
          "metadata": {
            "tags": []
          },
          "execution_count": 6
        }
      ]
    },
    {
      "cell_type": "code",
      "metadata": {
        "id": "qG27Uv3pB7Bv",
        "colab_type": "code",
        "colab": {}
      },
      "source": [
        "# Loading the data from Google Drive into PANDAS Dataframe\n",
        "\n",
        "train_df = pd.read_csv('/content/gdrive/My Drive/datasets/stacko/Train.csv')"
      ],
      "execution_count": 7,
      "outputs": []
    },
    {
      "cell_type": "markdown",
      "metadata": {
        "id": "iydzvKPhGthu",
        "colab_type": "text"
      },
      "source": [
        "# 2 Data Cleaning I\n",
        "\n",
        "1. Duplicate Removal\n",
        "2. NULL Values Check\n",
        "3. Empty String Check"
      ]
    },
    {
      "cell_type": "markdown",
      "metadata": {
        "id": "Cz0PWtRnrFm0",
        "colab_type": "text"
      },
      "source": [
        "## 2.1 Duplicates Removal"
      ]
    },
    {
      "cell_type": "code",
      "metadata": {
        "id": "nUFd5cfm-4iv",
        "colab_type": "code",
        "colab": {
          "base_uri": "https://localhost:8080/",
          "height": 204
        },
        "outputId": "efaaecd2-e439-476f-b72f-3bda82ad8352"
      },
      "source": [
        "# View of the DataFrame\n",
        "\n",
        "train_df.head()"
      ],
      "execution_count": 8,
      "outputs": [
        {
          "output_type": "execute_result",
          "data": {
            "text/html": [
              "<div>\n",
              "<style scoped>\n",
              "    .dataframe tbody tr th:only-of-type {\n",
              "        vertical-align: middle;\n",
              "    }\n",
              "\n",
              "    .dataframe tbody tr th {\n",
              "        vertical-align: top;\n",
              "    }\n",
              "\n",
              "    .dataframe thead th {\n",
              "        text-align: right;\n",
              "    }\n",
              "</style>\n",
              "<table border=\"1\" class=\"dataframe\">\n",
              "  <thead>\n",
              "    <tr style=\"text-align: right;\">\n",
              "      <th></th>\n",
              "      <th>Id</th>\n",
              "      <th>Title</th>\n",
              "      <th>Body</th>\n",
              "      <th>Tags</th>\n",
              "    </tr>\n",
              "  </thead>\n",
              "  <tbody>\n",
              "    <tr>\n",
              "      <th>0</th>\n",
              "      <td>1</td>\n",
              "      <td>How to check if an uploaded file is an image without mime type?</td>\n",
              "      <td>&lt;p&gt;I'd like to check if an uploaded file is an image file (e.g png, jpg, jpeg, gif, bmp) or anot...</td>\n",
              "      <td>php image-processing file-upload upload mime-types</td>\n",
              "    </tr>\n",
              "    <tr>\n",
              "      <th>1</th>\n",
              "      <td>2</td>\n",
              "      <td>How can I prevent firefox from closing when I press ctrl-w</td>\n",
              "      <td>&lt;p&gt;In my favorite editor (vim), I regularly use ctrl-w to execute a certain action. Now, it quit...</td>\n",
              "      <td>firefox</td>\n",
              "    </tr>\n",
              "    <tr>\n",
              "      <th>2</th>\n",
              "      <td>3</td>\n",
              "      <td>R Error Invalid type (list) for variable</td>\n",
              "      <td>&lt;p&gt;I am import matlab file and construct a data frame, matlab file contains two columns with and...</td>\n",
              "      <td>r matlab machine-learning</td>\n",
              "    </tr>\n",
              "    <tr>\n",
              "      <th>3</th>\n",
              "      <td>4</td>\n",
              "      <td>How do I replace special characters in a URL?</td>\n",
              "      <td>&lt;p&gt;This is probably very simple, but I simply cannot find the answer myself :( &lt;/p&gt;\\n\\n&lt;p&gt;Basica...</td>\n",
              "      <td>c# url encoding</td>\n",
              "    </tr>\n",
              "    <tr>\n",
              "      <th>4</th>\n",
              "      <td>5</td>\n",
              "      <td>How to modify whois contact details?</td>\n",
              "      <td>&lt;pre&gt;&lt;code&gt;function modify(.......)\\n{\\n  $mcontact = file_get_contents( \"https://test.httpapi.c...</td>\n",
              "      <td>php api file-get-contents</td>\n",
              "    </tr>\n",
              "  </tbody>\n",
              "</table>\n",
              "</div>"
            ],
            "text/plain": [
              "   Id  ...                                                Tags\n",
              "0   1  ...  php image-processing file-upload upload mime-types\n",
              "1   2  ...                                             firefox\n",
              "2   3  ...                           r matlab machine-learning\n",
              "3   4  ...                                     c# url encoding\n",
              "4   5  ...                           php api file-get-contents\n",
              "\n",
              "[5 rows x 4 columns]"
            ]
          },
          "metadata": {
            "tags": []
          },
          "execution_count": 8
        }
      ]
    },
    {
      "cell_type": "code",
      "metadata": {
        "id": "K5K9_UZX5xch",
        "colab_type": "code",
        "colab": {
          "base_uri": "https://localhost:8080/",
          "height": 68
        },
        "outputId": "ddda405f-e5df-403c-da78-d341aa02ae4d"
      },
      "source": [
        "# Check for duplicates\n",
        "\n",
        "train_df[['Title','Body','Tags']].duplicated().value_counts()"
      ],
      "execution_count": 9,
      "outputs": [
        {
          "output_type": "execute_result",
          "data": {
            "text/plain": [
              "False    4206314\n",
              "True     1827881\n",
              "dtype: int64"
            ]
          },
          "metadata": {
            "tags": []
          },
          "execution_count": 9
        }
      ]
    },
    {
      "cell_type": "markdown",
      "metadata": {
        "id": "8sFLOElM9Rb3",
        "colab_type": "text"
      },
      "source": [
        "---\n",
        "\n",
        "> **There are a significant number of 'True' values implying 1827881 duplicate rows.**\n",
        "\n",
        "---\n",
        "---"
      ]
    },
    {
      "cell_type": "code",
      "metadata": {
        "id": "pbZagD3DEmyu",
        "colab_type": "code",
        "colab": {
          "base_uri": "https://localhost:8080/",
          "height": 187
        },
        "outputId": "9946c4ff-54eb-4dc2-bebe-58253ea278be"
      },
      "source": [
        "# Duplicate Removal\n",
        "\n",
        "train_no_dup = train_df[['Title','Body','Tags']].drop_duplicates(ignore_index=True)\n",
        "train_no_dup.info()"
      ],
      "execution_count": 10,
      "outputs": [
        {
          "output_type": "stream",
          "text": [
            "<class 'pandas.core.frame.DataFrame'>\n",
            "RangeIndex: 4206314 entries, 0 to 4206313\n",
            "Data columns (total 3 columns):\n",
            " #   Column  Dtype \n",
            "---  ------  ----- \n",
            " 0   Title   object\n",
            " 1   Body    object\n",
            " 2   Tags    object\n",
            "dtypes: object(3)\n",
            "memory usage: 96.3+ MB\n"
          ],
          "name": "stdout"
        }
      ]
    },
    {
      "cell_type": "markdown",
      "metadata": {
        "id": "MrSNnzdyE7v_",
        "colab_type": "text"
      },
      "source": [
        "---\n",
        "\n",
        "> **We are now left with only 4206314 (4.2M) rows which is a reduction of ~30% data rows!!**\n",
        "\n",
        "---\n",
        "---"
      ]
    },
    {
      "cell_type": "markdown",
      "metadata": {
        "id": "9q5EePqGrK1v",
        "colab_type": "text"
      },
      "source": [
        "## 2.2 NULL Values Removal"
      ]
    },
    {
      "cell_type": "code",
      "metadata": {
        "id": "aPQ20oxbdBqL",
        "colab_type": "code",
        "colab": {
          "base_uri": "https://localhost:8080/",
          "height": 238
        },
        "outputId": "b5f02976-0ebe-425b-e0b2-0f1764edcfb9"
      },
      "source": [
        "# NULL Value Check\n",
        "\n",
        "for column in train_no_dup.columns:\n",
        "    print(\"NULL Value check for Column '{}' is\\n {}\\n\".format(column, train_no_dup[column].isnull().value_counts()))"
      ],
      "execution_count": 11,
      "outputs": [
        {
          "output_type": "stream",
          "text": [
            "NULL Value check for Column 'Title' is\n",
            " False    4206314\n",
            "Name: Title, dtype: int64\n",
            "\n",
            "NULL Value check for Column 'Body' is\n",
            " False    4206314\n",
            "Name: Body, dtype: int64\n",
            "\n",
            "NULL Value check for Column 'Tags' is\n",
            " False    4206307\n",
            "True           7\n",
            "Name: Tags, dtype: int64\n",
            "\n"
          ],
          "name": "stdout"
        }
      ]
    },
    {
      "cell_type": "markdown",
      "metadata": {
        "id": "MEXo_ZKKecrU",
        "colab_type": "text"
      },
      "source": [
        "---\n",
        "\n",
        "> **Observe there exists 7 Null Values in 'Tags' column. We will be investigating it further.**\n",
        "\n",
        "---\n",
        "---"
      ]
    },
    {
      "cell_type": "code",
      "metadata": {
        "id": "m7Cr_2YlezRA",
        "colab_type": "code",
        "colab": {
          "base_uri": "https://localhost:8080/",
          "height": 266
        },
        "outputId": "ab37f553-98db-4d71-ce6a-c33b7f291c6f"
      },
      "source": [
        "# View of rows with Null Values in 'Tags' column\n",
        "\n",
        "train_no_dup[train_no_dup['Tags'].isnull()]"
      ],
      "execution_count": 12,
      "outputs": [
        {
          "output_type": "execute_result",
          "data": {
            "text/html": [
              "<div>\n",
              "<style scoped>\n",
              "    .dataframe tbody tr th:only-of-type {\n",
              "        vertical-align: middle;\n",
              "    }\n",
              "\n",
              "    .dataframe tbody tr th {\n",
              "        vertical-align: top;\n",
              "    }\n",
              "\n",
              "    .dataframe thead th {\n",
              "        text-align: right;\n",
              "    }\n",
              "</style>\n",
              "<table border=\"1\" class=\"dataframe\">\n",
              "  <thead>\n",
              "    <tr style=\"text-align: right;\">\n",
              "      <th></th>\n",
              "      <th>Title</th>\n",
              "      <th>Body</th>\n",
              "      <th>Tags</th>\n",
              "    </tr>\n",
              "  </thead>\n",
              "  <tbody>\n",
              "    <tr>\n",
              "      <th>850166</th>\n",
              "      <td>Do we really need NULL?</td>\n",
              "      <td>&lt;blockquote&gt;\\n  &lt;p&gt;&lt;strong&gt;Possible Duplicate:&lt;/strong&gt;&lt;br&gt;\\n  &lt;a href=\"http://stackoverflow.com...</td>\n",
              "      <td>NaN</td>\n",
              "    </tr>\n",
              "    <tr>\n",
              "      <th>971049</th>\n",
              "      <td>Page cannot be null. Please ensure that this operation is being performed in the context of an A...</td>\n",
              "      <td>&lt;p&gt;I get this error when i remove dynamically telerik raddock and raddock zone controls  and add...</td>\n",
              "      <td>NaN</td>\n",
              "    </tr>\n",
              "    <tr>\n",
              "      <th>1347475</th>\n",
              "      <td>How do Germans call null</td>\n",
              "      <td>&lt;p&gt;In german null means 0, so how do they call null (like null reference) ?&lt;/p&gt;\\n</td>\n",
              "      <td>NaN</td>\n",
              "    </tr>\n",
              "    <tr>\n",
              "      <th>1722409</th>\n",
              "      <td>What is the difference between NULL and \"0\"?</td>\n",
              "      <td>&lt;p&gt;What is the difference from NULL and \"0\"?&lt;/p&gt;\\n\\n&lt;p&gt;Example:&lt;/p&gt;\\n\\n&lt;pre&gt;&lt;code&gt;return NULL;\\n...</td>\n",
              "      <td>NaN</td>\n",
              "    </tr>\n",
              "    <tr>\n",
              "      <th>2241942</th>\n",
              "      <td>a bit of difference between null and space</td>\n",
              "      <td>&lt;p&gt;I was just reading this quote&lt;/p&gt;\\n\\n&lt;blockquote&gt;\\n  &lt;p&gt;And don't tell me there isn't one bit...</td>\n",
              "      <td>NaN</td>\n",
              "    </tr>\n",
              "    <tr>\n",
              "      <th>2647070</th>\n",
              "      <td>Handle NullObjects</td>\n",
              "      <td>&lt;p&gt;I have done quite a bit of research on best ways to deal with null objects.\\nThe best I came ...</td>\n",
              "      <td>NaN</td>\n",
              "    </tr>\n",
              "    <tr>\n",
              "      <th>3241110</th>\n",
              "      <td>Find all values that are not null and not in another table</td>\n",
              "      <td>&lt;p&gt;I am running into a problem which results in an ORA-01722 error.  I have a table that contain...</td>\n",
              "      <td>NaN</td>\n",
              "    </tr>\n",
              "  </tbody>\n",
              "</table>\n",
              "</div>"
            ],
            "text/plain": [
              "                                                                                                       Title  ... Tags\n",
              "850166                                                                               Do we really need NULL?  ...  NaN\n",
              "971049   Page cannot be null. Please ensure that this operation is being performed in the context of an A...  ...  NaN\n",
              "1347475                                                                             How do Germans call null  ...  NaN\n",
              "1722409                                                         What is the difference between NULL and \"0\"?  ...  NaN\n",
              "2241942                                                           a bit of difference between null and space  ...  NaN\n",
              "2647070                                                                                   Handle NullObjects  ...  NaN\n",
              "3241110                                           Find all values that are not null and not in another table  ...  NaN\n",
              "\n",
              "[7 rows x 3 columns]"
            ]
          },
          "metadata": {
            "tags": []
          },
          "execution_count": 12
        }
      ]
    },
    {
      "cell_type": "markdown",
      "metadata": {
        "id": "IzTouET5iXw0",
        "colab_type": "text"
      },
      "source": [
        "---\n",
        "\n",
        "> **Observe that the corresponding title with Tags = NaN contain the word 'NULL' asking for some information that is related to NULL values. We now investigate further if there exists 'NULL' as a tag to some question.**\n",
        "\n",
        "---\n",
        "---"
      ]
    },
    {
      "cell_type": "code",
      "metadata": {
        "id": "qwZl7BGZhpGY",
        "colab_type": "code",
        "colab": {
          "base_uri": "https://localhost:8080/",
          "height": 153
        },
        "outputId": "06f43e82-c4ff-4f79-8fda-d6d8f4a615cc"
      },
      "source": [
        "# Checking if Null is a tag\n",
        "\n",
        "print((train_no_dup['Tags'] == 'Null').value_counts())\n",
        "print((train_no_dup['Tags'] == 'NULL').value_counts())\n",
        "print((train_no_dup['Tags'] == 'null').value_counts())\n",
        "print((train_no_dup['Tags'] == 'none').value_counts())"
      ],
      "execution_count": 13,
      "outputs": [
        {
          "output_type": "stream",
          "text": [
            "False    4206314\n",
            "Name: Tags, dtype: int64\n",
            "False    4206314\n",
            "Name: Tags, dtype: int64\n",
            "False    4206314\n",
            "Name: Tags, dtype: int64\n",
            "False    4206314\n",
            "Name: Tags, dtype: int64\n"
          ],
          "name": "stdout"
        }
      ]
    },
    {
      "cell_type": "markdown",
      "metadata": {
        "id": "Osl7pJuZjGLR",
        "colab_type": "text"
      },
      "source": [
        "--- \n",
        "> **Since none of the tags contain Null as a tag, removing the above seven questions from our data would serve as it's a very small fraction of the entire dataset.**\n",
        "\n",
        "---\n",
        "---"
      ]
    },
    {
      "cell_type": "code",
      "metadata": {
        "id": "swJx-pQikLnN",
        "colab_type": "code",
        "colab": {
          "base_uri": "https://localhost:8080/",
          "height": 51
        },
        "outputId": "877effe5-9783-48b1-b0f4-9388933406f0"
      },
      "source": [
        "# Removing Rows with NULL value in Tags\n",
        "train_no_dup = train_no_dup[train_no_dup['Tags'].notnull()]\n",
        "\n",
        "\n",
        "# Final Check if Null has been removed successfully\n",
        "print(train_no_dup['Tags'].isnull().value_counts())"
      ],
      "execution_count": 14,
      "outputs": [
        {
          "output_type": "stream",
          "text": [
            "False    4206307\n",
            "Name: Tags, dtype: int64\n"
          ],
          "name": "stdout"
        }
      ]
    },
    {
      "cell_type": "markdown",
      "metadata": {
        "id": "KLlTOIEh-0zF",
        "colab_type": "text"
      },
      "source": [
        "# 3 Exploratory Data Analysis\n",
        "\n",
        "1. Univariate Analysis\n",
        "2. Multivariate Analysis"
      ]
    },
    {
      "cell_type": "code",
      "metadata": {
        "colab_type": "code",
        "id": "MUUgimeanP4V",
        "colab": {
          "base_uri": "https://localhost:8080/",
          "height": 204
        },
        "outputId": "736a0ccc-24c5-413f-c91f-55daddcaf82d"
      },
      "source": [
        "train_no_dup.head()"
      ],
      "execution_count": 15,
      "outputs": [
        {
          "output_type": "execute_result",
          "data": {
            "text/html": [
              "<div>\n",
              "<style scoped>\n",
              "    .dataframe tbody tr th:only-of-type {\n",
              "        vertical-align: middle;\n",
              "    }\n",
              "\n",
              "    .dataframe tbody tr th {\n",
              "        vertical-align: top;\n",
              "    }\n",
              "\n",
              "    .dataframe thead th {\n",
              "        text-align: right;\n",
              "    }\n",
              "</style>\n",
              "<table border=\"1\" class=\"dataframe\">\n",
              "  <thead>\n",
              "    <tr style=\"text-align: right;\">\n",
              "      <th></th>\n",
              "      <th>Title</th>\n",
              "      <th>Body</th>\n",
              "      <th>Tags</th>\n",
              "    </tr>\n",
              "  </thead>\n",
              "  <tbody>\n",
              "    <tr>\n",
              "      <th>0</th>\n",
              "      <td>How to check if an uploaded file is an image without mime type?</td>\n",
              "      <td>&lt;p&gt;I'd like to check if an uploaded file is an image file (e.g png, jpg, jpeg, gif, bmp) or anot...</td>\n",
              "      <td>php image-processing file-upload upload mime-types</td>\n",
              "    </tr>\n",
              "    <tr>\n",
              "      <th>1</th>\n",
              "      <td>How can I prevent firefox from closing when I press ctrl-w</td>\n",
              "      <td>&lt;p&gt;In my favorite editor (vim), I regularly use ctrl-w to execute a certain action. Now, it quit...</td>\n",
              "      <td>firefox</td>\n",
              "    </tr>\n",
              "    <tr>\n",
              "      <th>2</th>\n",
              "      <td>R Error Invalid type (list) for variable</td>\n",
              "      <td>&lt;p&gt;I am import matlab file and construct a data frame, matlab file contains two columns with and...</td>\n",
              "      <td>r matlab machine-learning</td>\n",
              "    </tr>\n",
              "    <tr>\n",
              "      <th>3</th>\n",
              "      <td>How do I replace special characters in a URL?</td>\n",
              "      <td>&lt;p&gt;This is probably very simple, but I simply cannot find the answer myself :( &lt;/p&gt;\\n\\n&lt;p&gt;Basica...</td>\n",
              "      <td>c# url encoding</td>\n",
              "    </tr>\n",
              "    <tr>\n",
              "      <th>4</th>\n",
              "      <td>How to modify whois contact details?</td>\n",
              "      <td>&lt;pre&gt;&lt;code&gt;function modify(.......)\\n{\\n  $mcontact = file_get_contents( \"https://test.httpapi.c...</td>\n",
              "      <td>php api file-get-contents</td>\n",
              "    </tr>\n",
              "  </tbody>\n",
              "</table>\n",
              "</div>"
            ],
            "text/plain": [
              "                                                             Title  ...                                                Tags\n",
              "0  How to check if an uploaded file is an image without mime type?  ...  php image-processing file-upload upload mime-types\n",
              "1       How can I prevent firefox from closing when I press ctrl-w  ...                                             firefox\n",
              "2                         R Error Invalid type (list) for variable  ...                           r matlab machine-learning\n",
              "3                    How do I replace special characters in a URL?  ...                                     c# url encoding\n",
              "4                             How to modify whois contact details?  ...                           php api file-get-contents\n",
              "\n",
              "[5 rows x 3 columns]"
            ]
          },
          "metadata": {
            "tags": []
          },
          "execution_count": 15
        }
      ]
    },
    {
      "cell_type": "code",
      "metadata": {
        "id": "Q-XsDEqfEnEp",
        "colab_type": "code",
        "colab": {
          "base_uri": "https://localhost:8080/",
          "height": 187
        },
        "outputId": "81b65899-196e-4f96-ece3-f4478e55966a"
      },
      "source": [
        "train_no_dup.info()"
      ],
      "execution_count": 16,
      "outputs": [
        {
          "output_type": "stream",
          "text": [
            "<class 'pandas.core.frame.DataFrame'>\n",
            "Int64Index: 4206307 entries, 0 to 4206313\n",
            "Data columns (total 3 columns):\n",
            " #   Column  Dtype \n",
            "---  ------  ----- \n",
            " 0   Title   object\n",
            " 1   Body    object\n",
            " 2   Tags    object\n",
            "dtypes: object(3)\n",
            "memory usage: 128.4+ MB\n"
          ],
          "name": "stdout"
        }
      ]
    },
    {
      "cell_type": "markdown",
      "metadata": {
        "id": "IfnLTPS45A7a",
        "colab_type": "text"
      },
      "source": [
        "---\n",
        "**Observations**:\n",
        "1. Number of rows = 4206307 ( 4.2M)\n",
        "---"
      ]
    },
    {
      "cell_type": "code",
      "metadata": {
        "id": "gM_879tZnnL-",
        "colab_type": "code",
        "colab": {}
      },
      "source": [
        "# Total number of datapoints left\n",
        "\n",
        "datapoints = 4206307"
      ],
      "execution_count": 52,
      "outputs": []
    },
    {
      "cell_type": "code",
      "metadata": {
        "id": "vi256DXsJyxC",
        "colab_type": "code",
        "colab": {}
      },
      "source": [
        "# WordCloud function\n",
        "\n",
        "def _plot_wcloud(list_words):\n",
        "    # Ref: https://towardsdatascience.com/simple-wordcloud-in-python-2ae54a9f58e5\n",
        "    wc = WordCloud(width=1000, height=700, stopwords = {'dummy'})\n",
        "    wc.generate(list_words)\n",
        "    \n",
        "    plt.figure(figsize=(10,6))\n",
        "    plt.imshow(wc)\n",
        "    plt.axis('off')\n",
        "    plt.show()"
      ],
      "execution_count": 93,
      "outputs": []
    },
    {
      "cell_type": "markdown",
      "metadata": {
        "id": "oecs63jqpKo-",
        "colab_type": "text"
      },
      "source": [
        "## 3.1 Univariate Analysis"
      ]
    },
    {
      "cell_type": "code",
      "metadata": {
        "id": "IpAt_AklZmGM",
        "colab_type": "code",
        "colab": {
          "base_uri": "https://localhost:8080/",
          "height": 66,
          "referenced_widgets": [
            "b3863a3741c6410f934285890eae5b96",
            "4019c04b36274280ae468caf27513d95",
            "779bdd58c2554c44adef8fb9231a2714",
            "5d1853c23c5b4667b8e3bf35987b7a95",
            "951c8680ca40431b93aa154ccf884197",
            "eb1334b64bad4efca69d255797297ce0",
            "64699655732045ae972d22769b118426",
            "185531494c1640f3b013bf04394b5f46"
          ]
        },
        "outputId": "45071eab-99af-4bdb-8079-d9d556289c09"
      },
      "source": [
        "# Calculate number of spaces in each title which will define it's Word Count\n",
        "\n",
        "title_word_length = []\n",
        "for i in tqdm(range(datapoints)):\n",
        "    length_title.append(train_no_dup['Title'].iloc[i].count(\" \") + 1)"
      ],
      "execution_count": 50,
      "outputs": [
        {
          "output_type": "display_data",
          "data": {
            "application/vnd.jupyter.widget-view+json": {
              "model_id": "b3863a3741c6410f934285890eae5b96",
              "version_minor": 0,
              "version_major": 2
            },
            "text/plain": [
              "HBox(children=(FloatProgress(value=0.0, max=4206307.0), HTML(value='')))"
            ]
          },
          "metadata": {
            "tags": []
          }
        },
        {
          "output_type": "stream",
          "text": [
            "\n"
          ],
          "name": "stdout"
        }
      ]
    },
    {
      "cell_type": "code",
      "metadata": {
        "id": "TX68q6G4WdHS",
        "colab_type": "code",
        "colab": {
          "base_uri": "https://localhost:8080/",
          "height": 276
        },
        "outputId": "957890ec-888c-4d93-b814-69d004925394"
      },
      "source": [
        "# Distribution of Title Word length\n",
        "\n",
        "plt.hist(length_title, bins = 38)\n",
        "plt.show()"
      ],
      "execution_count": 51,
      "outputs": [
        {
          "output_type": "display_data",
          "data": {
            "image/png": "[encoded data removed]",
            "text/plain": [
              "<Figure size 432x288 with 1 Axes>"
            ]
          },
          "metadata": {
            "tags": [],
            "needs_background": "light"
          }
        }
      ]
    },
    {
      "cell_type": "markdown",
      "metadata": {
        "id": "kf8uVxiPhn04",
        "colab_type": "text"
      },
      "source": [
        "---\n",
        "> **Most of the titles are in the range of 5-10 words as evident from the distribtion plot. Since, the body is composed of both natural text and programming code, we will skip this analysis on 'Body' as codes could be very lengthly and non-meaningful for analysis**\n",
        "\n",
        "---\n",
        "---"
      ]
    },
    {
      "cell_type": "code",
      "metadata": {
        "id": "kKCPrBI0m-oz",
        "colab_type": "code",
        "colab": {
          "base_uri": "https://localhost:8080/",
          "height": 66,
          "referenced_widgets": [
            "124984cc8e5d469d9fd3bc4b4e432b64",
            "75a26fbbc0c34390b925ddeef5156b03",
            "6cd86755a7744f9b9c170320825ed927",
            "2229917f3ca54fa28eb42418ecd9b7c3",
            "89bcd129f37b4802be0bea36eb71fd75",
            "f26c5562a1c54effa37525ee638c4360",
            "d2d6ea40a7624a5ca7f4a6ad661d875d",
            "0aa7211b4d924c63b6ddac9d8fb6a3f1"
          ]
        },
        "outputId": "382893e2-5622-47d4-c05a-b96ebaeca650"
      },
      "source": [
        "# Number of tags in each row of data\n",
        "\n",
        "row_tag_count = []\n",
        "for i in tqdm(range(datapoints)):\n",
        "    row_tag_count.append(train_no_dup['Tags'].iloc[i].count(\" \") + 1)"
      ],
      "execution_count": 53,
      "outputs": [
        {
          "output_type": "display_data",
          "data": {
            "application/vnd.jupyter.widget-view+json": {
              "model_id": "124984cc8e5d469d9fd3bc4b4e432b64",
              "version_minor": 0,
              "version_major": 2
            },
            "text/plain": [
              "HBox(children=(FloatProgress(value=0.0, max=4206307.0), HTML(value='')))"
            ]
          },
          "metadata": {
            "tags": []
          }
        },
        {
          "output_type": "stream",
          "text": [
            "\n"
          ],
          "name": "stdout"
        }
      ]
    },
    {
      "cell_type": "code",
      "metadata": {
        "id": "OUFGLJMWoaAE",
        "colab_type": "code",
        "colab": {
          "base_uri": "https://localhost:8080/",
          "height": 119
        },
        "outputId": "099e34ec-fa21-4a3b-df82-cec84fc23d22"
      },
      "source": [
        "pd.Series(row_tag_count).value_counts()"
      ],
      "execution_count": 55,
      "outputs": [
        {
          "output_type": "execute_result",
          "data": {
            "text/plain": [
              "3    1206157\n",
              "2    1111706\n",
              "4     814996\n",
              "1     568290\n",
              "5     505158\n",
              "dtype: int64"
            ]
          },
          "metadata": {
            "tags": []
          },
          "execution_count": 55
        }
      ]
    },
    {
      "cell_type": "code",
      "metadata": {
        "id": "bq0j7cFcoIrR",
        "colab_type": "code",
        "colab": {
          "base_uri": "https://localhost:8080/",
          "height": 276
        },
        "outputId": "cd0afb53-27e4-4569-e2fb-9caa6dd8bdab"
      },
      "source": [
        "# Distribution of tag counts in each row\n",
        "\n",
        "plt.hist(row_tag_count, bins = 5)\n",
        "plt.show()"
      ],
      "execution_count": 57,
      "outputs": [
        {
          "output_type": "display_data",
          "data": {
            "image/png": "[encoded data removed]",
            "text/plain": [
              "<Figure size 432x288 with 1 Axes>"
            ]
          },
          "metadata": {
            "tags": [],
            "needs_background": "light"
          }
        }
      ]
    },
    {
      "cell_type": "markdown",
      "metadata": {
        "id": "AuPdM6u6op_M",
        "colab_type": "text"
      },
      "source": [
        "---\n",
        "> **Minimum number of tag associated to a row is 1 and maximum is 5. Most  of the rows have 3 tags followed by 2 tags and then 4 tags.**\n",
        "\n",
        "---\n",
        "---"
      ]
    },
    {
      "cell_type": "code",
      "metadata": {
        "id": "3n2jwSIkqkO1",
        "colab_type": "code",
        "colab": {
          "base_uri": "https://localhost:8080/",
          "height": 221
        },
        "outputId": "2746549a-9023-4ce5-8475-23f4d9d794a1"
      },
      "source": [
        "# Unique tags and their frequency of occurence\n",
        "\n",
        "tags = []\n",
        "for i in train_no_dup['Tags']:\n",
        "    try:\n",
        "        tags.extend(i.split())\n",
        "    except:\n",
        "        continue\n",
        "\n",
        "print(pd.Series(tags).value_counts())"
      ],
      "execution_count": 59,
      "outputs": [
        {
          "output_type": "stream",
          "text": [
            "c#                    331505\n",
            "java                  299414\n",
            "php                   284103\n",
            "javascript            265423\n",
            "android               235436\n",
            "                       ...  \n",
            "imapclient                 1\n",
            "fanotify                   1\n",
            "windows-automation         1\n",
            "jzkit                      1\n",
            "r7rs                       1\n",
            "Length: 42048, dtype: int64\n"
          ],
          "name": "stdout"
        }
      ]
    },
    {
      "cell_type": "markdown",
      "metadata": {
        "id": "nTfL-w2GuPAV",
        "colab_type": "text"
      },
      "source": [
        "---\n",
        "> **There are 42048 unique tags in total.**\n",
        "\n",
        "---\n",
        "---"
      ]
    },
    {
      "cell_type": "code",
      "metadata": {
        "id": "ySr-Dgw_pwHH",
        "colab_type": "code",
        "colab": {
          "base_uri": "https://localhost:8080/",
          "height": 374
        },
        "outputId": "f5a0ed6b-36e6-4bac-a152-bb86a4fa5b8b"
      },
      "source": [
        "# Bar Plot of top 20 tags\n",
        "\n",
        "plt.figure(figsize=(16,6))\n",
        "plt.bar(pd.Series(tags).value_counts().index.values[:20], pd.Series(tags).value_counts()[:20])\n",
        "plt.show()"
      ],
      "execution_count": 82,
      "outputs": [
        {
          "output_type": "display_data",
          "data": {
            "image/png": "[encoded data removed]",
            "text/plain": [
              "<Figure size 1152x432 with 1 Axes>"
            ]
          },
          "metadata": {
            "tags": [],
            "needs_background": "light"
          }
        }
      ]
    },
    {
      "cell_type": "code",
      "metadata": {
        "id": "OksmkJhTH55Q",
        "colab_type": "code",
        "colab": {}
      },
      "source": [
        "# Prepare a single string of tags to plot WordCloud\n",
        "\n",
        "tags_str = ' '.join(s for s in tags)"
      ],
      "execution_count": 90,
      "outputs": []
    },
    {
      "cell_type": "code",
      "metadata": {
        "id": "Vgb-3QSP085q",
        "colab_type": "code",
        "colab": {
          "base_uri": "https://localhost:8080/",
          "height": 357
        },
        "outputId": "b05ab1ef-eea5-4b27-b9d9-4ec63fa70bcc"
      },
      "source": [
        "_plot_wcloud(tags_str)"
      ],
      "execution_count": 94,
      "outputs": [
        {
          "output_type": "display_data",
          "data": {
            "image/png": "[encoded data removed]",
            "text/plain": [
              "<Figure size 720x432 with 1 Axes>"
            ]
          },
          "metadata": {
            "tags": [],
            "needs_background": "light"
          }
        }
      ]
    },
    {
      "cell_type": "markdown",
      "metadata": {
        "id": "gQ8iMenP5VFL",
        "colab_type": "text"
      },
      "source": [
        "---\n",
        "> **This looks ambigous. c#, java and many more, the highest occuring tags are dominated by other tags in the word cloud whose occurance is lower than them.**\n",
        "\n",
        "TBD :: WordCloud of Title and Body to see if there is any existence of correlation b/w them and Tags; after resolving the above ambiguity.\n",
        "\n",
        "---\n",
        "---\n"
      ]
    },
    {
      "cell_type": "code",
      "metadata": {
        "id": "vWx5AsFGL56V",
        "colab_type": "code",
        "colab": {
          "base_uri": "https://localhost:8080/",
          "height": 544
        },
        "outputId": "dd10c091-7431-42b3-fc7b-476c41f24166"
      },
      "source": [
        "# Top 30 Tag strings and their frequency of occurence\n",
        "\n",
        "train_no_dup['Tags'].value_counts()[0:30]"
      ],
      "execution_count": null,
      "outputs": [
        {
          "output_type": "execute_result",
          "data": {
            "text/plain": [
              "android                   35794\n",
              "php                       21957\n",
              "jquery                    19842\n",
              "javascript                17955\n",
              "javascript jquery         17923\n",
              "java                      17296\n",
              "c#                        16318\n",
              "python                    11920\n",
              "php mysql                 11501\n",
              "c++                       11081\n",
              "mysql                     10792\n",
              "html css                   9651\n",
              "iphone                     8603\n",
              "asp.net                    8105\n",
              "ruby-on-rails              7060\n",
              "c# asp.net                 7056\n",
              "java android               6336\n",
              "c                          6186\n",
              "css                        6132\n",
              "c# .net                    4349\n",
              "r                          4320\n",
              "git                        4152\n",
              "javascript html            4073\n",
              "iphone objective-c         4071\n",
              "javascript jquery html     3713\n",
              "sql                        3686\n",
              "objective-c                3641\n",
              "ruby                       3573\n",
              "mysql sql                  3509\n",
              "asp.net-mvc                3442\n",
              "Name: Tags, dtype: int64"
            ]
          },
          "metadata": {
            "tags": []
          },
          "execution_count": 13
        }
      ]
    },
    {
      "cell_type": "markdown",
      "metadata": {
        "id": "VHw53Yb_NP1x",
        "colab_type": "text"
      },
      "source": [
        "---\n",
        "\n",
        "> **Observe that most occuring tags strings are of word(tag) length 1 and hence label(tag) dependency is something which can be ignored in this data as the tags are fairly independent.**\n",
        "\n",
        "---\n",
        "---"
      ]
    },
    {
      "cell_type": "markdown",
      "metadata": {
        "id": "2ti1y7V67T70",
        "colab_type": "text"
      },
      "source": [
        "## 3.2 Multivariate Analysis\n",
        "\n",
        "TBD\n",
        "1. Length of title and body against number of tags.\n",
        "2. Percentiles and Quantiles."
      ]
    },
    {
      "cell_type": "code",
      "metadata": {
        "id": "2yW5SxgPeVtj",
        "colab_type": "code",
        "colab": {
          "base_uri": "https://localhost:8080/",
          "height": 265
        },
        "outputId": "54d46308-2d69-4a88-ee4c-7938b5af4984"
      },
      "source": [
        "plt.plot(tags.value_counts().values)\n",
        "plt.grid()\n",
        "plt.show()"
      ],
      "execution_count": null,
      "outputs": [
        {
          "output_type": "display_data",
          "data": {
            "image/png": "[encoded data removed]",
            "text/plain": [
              "<Figure size 432x288 with 1 Axes>"
            ]
          },
          "metadata": {
            "tags": [],
            "needs_background": "light"
          }
        }
      ]
    },
    {
      "cell_type": "code",
      "metadata": {
        "id": "0aBhBquK3CSO",
        "colab_type": "code",
        "colab": {
          "base_uri": "https://localhost:8080/",
          "height": 265
        },
        "outputId": "62d722f7-c826-4d8d-a80d-5a91205b7ac6"
      },
      "source": [
        "plt.plot(tags.value_counts().values[0:100])\n",
        "plt.grid()\n",
        "plt.show()"
      ],
      "execution_count": null,
      "outputs": [
        {
          "output_type": "display_data",
          "data": {
            "image/png": "[encoded data removed]",
            "text/plain": [
              "<Figure size 432x288 with 1 Axes>"
            ]
          },
          "metadata": {
            "tags": [],
            "needs_background": "light"
          }
        }
      ]
    },
    {
      "cell_type": "markdown",
      "metadata": {
        "id": "xrDxUCBIN2iq",
        "colab_type": "text"
      },
      "source": [
        "# 3 Data Cleaning - II and Preprocessing\n",
        "\n",
        "1. HTML tags Removal\n",
        "2. Punctuation Removal\n",
        "3. Stopwords Removal\n",
        "4. Stemming(This auto lowercases the words) or Lemmitization\n",
        "5. Convert to Lowercase\n",
        "7. Expanding Contractions\n",
        "8. Treat numbers"
      ]
    },
    {
      "cell_type": "code",
      "metadata": {
        "id": "MX6yI_v_PW8Q",
        "colab_type": "code",
        "colab": {}
      },
      "source": [
        "# Preprocessing Functions\n",
        "\n",
        "\"\"\"\n",
        "def _html_tag_remover(sentence):\n",
        "    # Ref: https://medium.com/@jorlugaqui/how-to-strip-html-tags-from-a-string-in-python-7cb81a2bbf44\n",
        "    clean = re.compile('<.*?>')\n",
        "    return re.sub(clean, ' ', sentence).strip()\n",
        "\n",
        "\n",
        "def _expand_contractions(sentence):\n",
        "    # Ref: https://medium.com/@lukei_3514/dealing-with-contractions-in-nlp-d6174300876b\n",
        "    # Ref: https://pypi.org/project/pycontractions/\n",
        "    # TBD-- Use spaCy or pycontractions\n",
        "    return contractions.fix(sentence)\n",
        "\n",
        "\n",
        "def _punc_remover(sentence):\n",
        "    punctuations = '!?#$%^&*,:\\;-_(){}/[]'\n",
        "    for character in sentence:\n",
        "        if character in punctuations:\n",
        "            sentence = sentence.replace(character, \" \")\n",
        "            continue\n",
        "    return sentence.strip()\n",
        "\n",
        "\n",
        "def _stop_remover(sentence):\n",
        "    # Ref: https://www.analyticsvidhya.com/blog/2019/08/how-to-remove-stopwords-text-normalization-nltk-spacy-gensim-python/\n",
        "    filtered_sentence = ''\n",
        "    stop_words = set(stopwords.words('english'))\n",
        "    tokens = word_tokenize(sentence)\n",
        "    for token in tokens:\n",
        "        if token not in stop_words:\n",
        "            filtered_sentence += token + ' '\n",
        "    return filtered_sentence.strip()\n",
        "\n",
        "\n",
        "def _stemmer(sentence): # This automatically converts to lowercase\n",
        "    stemmed_sentence = \"\"\n",
        "    tokens = word_tokenize(sentence) # str.split() can be used for faster result\n",
        "    # but take a look: https://stackoverflow.com/questions/35345761/python-re-split-vs-nltk-word-tokenize-and-sent-tokenize\n",
        "    snow = SnowballStemmer('english')\n",
        "    for token in tokens:\n",
        "        stemmed_sentence += snow.stem(token) + ' '\n",
        "    return stemmed_sentence.strip()\n",
        "\n",
        "\n",
        "def _lemmatizer(sentence):\n",
        "    pass\n",
        "\n",
        "\n",
        "def _treat_numbers(sentence):\n",
        "    pass\n",
        "\"\"\""
      ],
      "execution_count": null,
      "outputs": []
    },
    {
      "cell_type": "code",
      "metadata": {
        "id": "2vuZBoqNQ8xt",
        "colab_type": "code",
        "colab": {}
      },
      "source": [
        "# Faster Preprocessing without function calls\n",
        "datapoints = len(train_no_dup)\n",
        "\n",
        "def _preprocess(train_list):\n",
        "    \"\"\"\n",
        "    Arguments:\n",
        "    train_list --- A list of unprocessed strings\n",
        "\n",
        "    Returns:\n",
        "    filtered_sentences --- A list of processed strings\n",
        "    \"\"\"\n",
        "\n",
        "    filtered_sentences = []\n",
        "    punctuations = '!?#$%^&*,:\\;-_(){}/[]'\n",
        "    stop_words = set(stopwords.words('english'))\n",
        "    snow = SnowballStemmer('english')\n",
        "\n",
        "    for i in tqdm(range(len(train_list))):\n",
        "        sentence = train_list[i]\n",
        "        clean = re.compile('<.*?>')\n",
        "        sentence = re.sub(clean, ' ', sentence).strip() # HTML Removal\n",
        "        sentence = contractions.fix(sentence)           # Expanding Contractions\n",
        "        tokens = word_tokenize(sentence)\n",
        "        temp = ''\n",
        "        for token in tokens:\n",
        "            if token not in punctuations:               # Punctuation Removal\n",
        "                if token not in stop_words:             # Stopword Removal\n",
        "                    temp += snow.stem(token) + ' '      # Stemming\n",
        "        filtered_sentences.append(temp.strip())\n",
        "\n",
        "    return filtered_sentences"
      ],
      "execution_count": null,
      "outputs": []
    },
    {
      "cell_type": "code",
      "metadata": {
        "id": "vtUCEGfSMbv0",
        "colab_type": "code",
        "colab": {
          "base_uri": "https://localhost:8080/",
          "height": 66,
          "referenced_widgets": [
            "63c16baa29d14a199324958cddbb743d",
            "aa66ab4b7f63461193690499e7baa3e6",
            "3f594619d292403eac9d549019b70632",
            "eddbdf5e0f4a4fb0b5fd504303cd3aca",
            "3e21378123b54ecea2657c66f2ca30b4",
            "71f58aedf9214fdb890931236aba14bf",
            "e6a20cf49f754d92bb156a94268db1ab",
            "94fd516f41764e8ba0f1e4788778b07c"
          ]
        },
        "outputId": "2bd60bbf-40e2-4d94-d21b-b2ace5703bd4"
      },
      "source": [
        "# Driving the above function\n",
        "\n",
        "X_title = _preprocess(train_no_dup['Title'].iloc[0:datapoints])\n",
        "X_processed = X_title\n",
        "\n",
        "y = train_no_dup['Tags'].iloc[0:datapoints]"
      ],
      "execution_count": null,
      "outputs": [
        {
          "output_type": "display_data",
          "data": {
            "application/vnd.jupyter.widget-view+json": {
              "model_id": "63c16baa29d14a199324958cddbb743d",
              "version_minor": 0,
              "version_major": 2
            },
            "text/plain": [
              "HBox(children=(FloatProgress(value=0.0, max=4206314.0), HTML(value='')))"
            ]
          },
          "metadata": {
            "tags": []
          }
        },
        {
          "output_type": "stream",
          "text": [
            "\n"
          ],
          "name": "stdout"
        }
      ]
    },
    {
      "cell_type": "markdown",
      "metadata": {
        "id": "IhIqBFm_LnIf",
        "colab_type": "text"
      },
      "source": [
        "# 4 Featurization\n",
        "\n",
        "1. Data Splitting\n",
        "2. Featurization"
      ]
    },
    {
      "cell_type": "code",
      "metadata": {
        "id": "VKB6shA-LrPN",
        "colab_type": "code",
        "colab": {}
      },
      "source": [
        "def _featurize_split(X_preprocessed, y, y_max_features, cv_size = 0.2):\n",
        "    \"\"\"\n",
        "    Arguments:\n",
        "    X_preprocessed ---  List of preprocessed text strings to build TfIdf...\n",
        "    y ---  List of strings with tags to build binary counts\n",
        "    y_max_features --- Maximum number of tags to consider bases on occurance frequency\n",
        "    cv_size --- Fraction of input data to split into Cross-Validation set.(default = 0)\n",
        "\n",
        "    Returns:\n",
        "    X_featurized --- TfIdf form of each document in the corpus\n",
        "    Y_featurized --- Binary Bag of Words form of the tags\n",
        "    vectorizer_tfidf\n",
        "    \"\"\"\n",
        "\n",
        "    # Count Vectorizer for tags(Output Labels)\n",
        "    vectorizer = CountVectorizer(lowercase=True, binary=True, max_features=y_max_features)\n",
        "    y_featurized = vectorizer.fit_transform(y)              # Binary Bow\n",
        "\n",
        "    # Splitting data\n",
        "    X_train_raw, X_cv_raw, y_train, y_cv = train_test_split\\\n",
        "        (X_preprocessed, y_featurized, test_size = cv_size)                \n",
        "\n",
        "    # TFIDF Vectorizer for training data(X_train)\n",
        "    vectorizer_tfidf = TfidfVectorizer()\n",
        "    X_train = vectorizer_tfidf.fit_transform(X_train_raw)\n",
        "    X_cv = vectorizer_tfidf.transform(X_cv_raw)\n",
        "\n",
        "    return X_train, X_cv, y_train, y_cv"
      ],
      "execution_count": null,
      "outputs": []
    },
    {
      "cell_type": "code",
      "metadata": {
        "id": "ndtb29a3O97R",
        "colab_type": "code",
        "colab": {
          "base_uri": "https://localhost:8080/",
          "height": 51
        },
        "outputId": "ba33555c-a474-4e19-b213-ad888b044715"
      },
      "source": [
        "# Driving the above function\n",
        "\n",
        "X_train, X_cv, y_train, y_cv = _featurize_split(X_processed, y, y_max_features = 75, cv_size = .2)\n",
        "\n",
        "print(X_train.shape)\n",
        "print(X_cv.shape)"
      ],
      "execution_count": null,
      "outputs": [
        {
          "output_type": "stream",
          "text": [
            "(3365051, 226214)\n",
            "(841263, 226214)\n"
          ],
          "name": "stdout"
        }
      ]
    },
    {
      "cell_type": "code",
      "metadata": {
        "id": "P64JXdy2jaLX",
        "colab_type": "code",
        "colab": {
          "base_uri": "https://localhost:8080/",
          "height": 51
        },
        "outputId": "cedc7350-1b74-4102-d0d4-4a960b64ed95"
      },
      "source": [
        "print(y_train.shape)\n",
        "print(y_cv.shape)"
      ],
      "execution_count": null,
      "outputs": [
        {
          "output_type": "stream",
          "text": [
            "(3365051, 75)\n",
            "(841263, 75)\n"
          ],
          "name": "stdout"
        }
      ]
    },
    {
      "cell_type": "markdown",
      "metadata": {
        "id": "dWio6Jn0YZI9",
        "colab_type": "text"
      },
      "source": [
        "# 5 Model Exploration\n",
        "\n",
        "1. Naive Bayes\n",
        "2. Logistic Regresion\n",
        "\n",
        "We won't go for non-linear models as we will have to train one model for each tag and hence going for the cheaper to train models."
      ]
    },
    {
      "cell_type": "markdown",
      "metadata": {
        "id": "PVQcbL0jY3Q6",
        "colab_type": "text"
      },
      "source": [
        "## 5.2 Logistic Regression\n",
        "\n",
        "1. Data Scaling(Standard Scalar)"
      ]
    },
    {
      "cell_type": "code",
      "metadata": {
        "id": "l0O7Npb-Y6oV",
        "colab_type": "code",
        "colab": {}
      },
      "source": [
        "# Logistic Regression function\n",
        "\n",
        "def _logistic_regression(X_train, X_cv, y_train,  y_cv, _alpha=0.0001):\n",
        "    \"\"\"\n",
        "    Arguments:\n",
        "\n",
        "    Returns:\n",
        "    \"\"\"\n",
        "    clf = OneVsRestClassifier(SGDClassifier(loss='log', alpha = _alpha, n_jobs=-1), n_jobs=-1)\n",
        "    clf.fit(X_train, y_train)\n",
        "    pred = clf.predict(X_cv)\n",
        "    f1_micro = f1_score(y_cv, pred, average='micro')\n",
        "    accuracy = accuracy_score(y_cv, pred)\n",
        "\n",
        "    return f1_micro, accuracy"
      ],
      "execution_count": null,
      "outputs": []
    },
    {
      "cell_type": "code",
      "metadata": {
        "id": "j_OHPM4DuQ8r",
        "colab_type": "code",
        "colab": {
          "base_uri": "https://localhost:8080/",
          "height": 102
        },
        "outputId": "26b9738c-b546-4606-c14d-419c70f25d8c"
      },
      "source": [
        "\n",
        "for _alpha in [10**i for i in range(-10,-5)]:\n",
        "    f1, acc = _logistic_regression(X_train, X_cv, y_train, y_cv, _alpha)\n",
        "    print(\"For alpha = {}, Micro F1 Score = {} and Accuracy = {}\".format(_alpha, f1, acc))"
      ],
      "execution_count": null,
      "outputs": [
        {
          "output_type": "stream",
          "text": [
            "For alpha = 1e-10, Micro F1 Score = 0.5097006600179836 and Accuracy = 0.33132920382805375\n",
            "For alpha = 1e-09, Micro F1 Score = 0.5573338928861776 and Accuracy = 0.3976770641285781\n",
            "For alpha = 1e-08, Micro F1 Score = 0.5885593698862491 and Accuracy = 0.4553225329058808\n",
            "For alpha = 1e-07, Micro F1 Score = 0.5920797712610814 and Accuracy = 0.47235644501184526\n",
            "For alpha = 1e-06, Micro F1 Score = 0.5726007738904334 and Accuracy = 0.46532535009860176\n"
          ],
          "name": "stdout"
        }
      ]
    },
    {
      "cell_type": "markdown",
      "metadata": {
        "id": "fInvg7cskklJ",
        "colab_type": "text"
      },
      "source": [
        "# 6 Results and Conclusion\n",
        "\n",
        "N-gram"
      ]
    }
  ]
}